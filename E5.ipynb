{
 "cells": [
  {
   "cell_type": "markdown",
   "metadata": {},
   "source": [
    "# Project 1 : diabetes \n"
   ]
  },
  {
   "cell_type": "markdown",
   "metadata": {},
   "source": [
    "# 0. 모듈 준비"
   ]
  },
  {
   "cell_type": "code",
   "execution_count": 1,
   "metadata": {},
   "outputs": [],
   "source": [
    "import pandas as pd\n",
    "import matplotlib.pyplot as plt\n",
    "import numpy as np"
   ]
  },
  {
   "cell_type": "markdown",
   "metadata": {},
   "source": [
    "# 1. 데이터 불러오기 및 준비"
   ]
  },
  {
   "cell_type": "code",
   "execution_count": 2,
   "metadata": {},
   "outputs": [
    {
     "data": {
      "text/html": [
       "<div>\n",
       "<style scoped>\n",
       "    .dataframe tbody tr th:only-of-type {\n",
       "        vertical-align: middle;\n",
       "    }\n",
       "\n",
       "    .dataframe tbody tr th {\n",
       "        vertical-align: top;\n",
       "    }\n",
       "\n",
       "    .dataframe thead th {\n",
       "        text-align: right;\n",
       "    }\n",
       "</style>\n",
       "<table border=\"1\" class=\"dataframe\">\n",
       "  <thead>\n",
       "    <tr style=\"text-align: right;\">\n",
       "      <th></th>\n",
       "      <th>age</th>\n",
       "      <th>sex</th>\n",
       "      <th>bmi</th>\n",
       "      <th>bp</th>\n",
       "      <th>s1</th>\n",
       "      <th>s2</th>\n",
       "      <th>s3</th>\n",
       "      <th>s4</th>\n",
       "      <th>s5</th>\n",
       "      <th>s6</th>\n",
       "    </tr>\n",
       "  </thead>\n",
       "  <tbody>\n",
       "    <tr>\n",
       "      <th>0</th>\n",
       "      <td>0.038076</td>\n",
       "      <td>0.050680</td>\n",
       "      <td>0.061696</td>\n",
       "      <td>0.021872</td>\n",
       "      <td>-0.044223</td>\n",
       "      <td>-0.034821</td>\n",
       "      <td>-0.043401</td>\n",
       "      <td>-0.002592</td>\n",
       "      <td>0.019908</td>\n",
       "      <td>-0.017646</td>\n",
       "    </tr>\n",
       "    <tr>\n",
       "      <th>1</th>\n",
       "      <td>-0.001882</td>\n",
       "      <td>-0.044642</td>\n",
       "      <td>-0.051474</td>\n",
       "      <td>-0.026328</td>\n",
       "      <td>-0.008449</td>\n",
       "      <td>-0.019163</td>\n",
       "      <td>0.074412</td>\n",
       "      <td>-0.039493</td>\n",
       "      <td>-0.068330</td>\n",
       "      <td>-0.092204</td>\n",
       "    </tr>\n",
       "    <tr>\n",
       "      <th>2</th>\n",
       "      <td>0.085299</td>\n",
       "      <td>0.050680</td>\n",
       "      <td>0.044451</td>\n",
       "      <td>-0.005671</td>\n",
       "      <td>-0.045599</td>\n",
       "      <td>-0.034194</td>\n",
       "      <td>-0.032356</td>\n",
       "      <td>-0.002592</td>\n",
       "      <td>0.002864</td>\n",
       "      <td>-0.025930</td>\n",
       "    </tr>\n",
       "    <tr>\n",
       "      <th>3</th>\n",
       "      <td>-0.089063</td>\n",
       "      <td>-0.044642</td>\n",
       "      <td>-0.011595</td>\n",
       "      <td>-0.036656</td>\n",
       "      <td>0.012191</td>\n",
       "      <td>0.024991</td>\n",
       "      <td>-0.036038</td>\n",
       "      <td>0.034309</td>\n",
       "      <td>0.022692</td>\n",
       "      <td>-0.009362</td>\n",
       "    </tr>\n",
       "    <tr>\n",
       "      <th>4</th>\n",
       "      <td>0.005383</td>\n",
       "      <td>-0.044642</td>\n",
       "      <td>-0.036385</td>\n",
       "      <td>0.021872</td>\n",
       "      <td>0.003935</td>\n",
       "      <td>0.015596</td>\n",
       "      <td>0.008142</td>\n",
       "      <td>-0.002592</td>\n",
       "      <td>-0.031991</td>\n",
       "      <td>-0.046641</td>\n",
       "    </tr>\n",
       "    <tr>\n",
       "      <th>...</th>\n",
       "      <td>...</td>\n",
       "      <td>...</td>\n",
       "      <td>...</td>\n",
       "      <td>...</td>\n",
       "      <td>...</td>\n",
       "      <td>...</td>\n",
       "      <td>...</td>\n",
       "      <td>...</td>\n",
       "      <td>...</td>\n",
       "      <td>...</td>\n",
       "    </tr>\n",
       "    <tr>\n",
       "      <th>437</th>\n",
       "      <td>0.041708</td>\n",
       "      <td>0.050680</td>\n",
       "      <td>0.019662</td>\n",
       "      <td>0.059744</td>\n",
       "      <td>-0.005697</td>\n",
       "      <td>-0.002566</td>\n",
       "      <td>-0.028674</td>\n",
       "      <td>-0.002592</td>\n",
       "      <td>0.031193</td>\n",
       "      <td>0.007207</td>\n",
       "    </tr>\n",
       "    <tr>\n",
       "      <th>438</th>\n",
       "      <td>-0.005515</td>\n",
       "      <td>0.050680</td>\n",
       "      <td>-0.015906</td>\n",
       "      <td>-0.067642</td>\n",
       "      <td>0.049341</td>\n",
       "      <td>0.079165</td>\n",
       "      <td>-0.028674</td>\n",
       "      <td>0.034309</td>\n",
       "      <td>-0.018118</td>\n",
       "      <td>0.044485</td>\n",
       "    </tr>\n",
       "    <tr>\n",
       "      <th>439</th>\n",
       "      <td>0.041708</td>\n",
       "      <td>0.050680</td>\n",
       "      <td>-0.015906</td>\n",
       "      <td>0.017282</td>\n",
       "      <td>-0.037344</td>\n",
       "      <td>-0.013840</td>\n",
       "      <td>-0.024993</td>\n",
       "      <td>-0.011080</td>\n",
       "      <td>-0.046879</td>\n",
       "      <td>0.015491</td>\n",
       "    </tr>\n",
       "    <tr>\n",
       "      <th>440</th>\n",
       "      <td>-0.045472</td>\n",
       "      <td>-0.044642</td>\n",
       "      <td>0.039062</td>\n",
       "      <td>0.001215</td>\n",
       "      <td>0.016318</td>\n",
       "      <td>0.015283</td>\n",
       "      <td>-0.028674</td>\n",
       "      <td>0.026560</td>\n",
       "      <td>0.044528</td>\n",
       "      <td>-0.025930</td>\n",
       "    </tr>\n",
       "    <tr>\n",
       "      <th>441</th>\n",
       "      <td>-0.045472</td>\n",
       "      <td>-0.044642</td>\n",
       "      <td>-0.073030</td>\n",
       "      <td>-0.081414</td>\n",
       "      <td>0.083740</td>\n",
       "      <td>0.027809</td>\n",
       "      <td>0.173816</td>\n",
       "      <td>-0.039493</td>\n",
       "      <td>-0.004220</td>\n",
       "      <td>0.003064</td>\n",
       "    </tr>\n",
       "  </tbody>\n",
       "</table>\n",
       "<p>442 rows × 10 columns</p>\n",
       "</div>"
      ],
      "text/plain": [
       "          age       sex       bmi        bp        s1        s2        s3  \\\n",
       "0    0.038076  0.050680  0.061696  0.021872 -0.044223 -0.034821 -0.043401   \n",
       "1   -0.001882 -0.044642 -0.051474 -0.026328 -0.008449 -0.019163  0.074412   \n",
       "2    0.085299  0.050680  0.044451 -0.005671 -0.045599 -0.034194 -0.032356   \n",
       "3   -0.089063 -0.044642 -0.011595 -0.036656  0.012191  0.024991 -0.036038   \n",
       "4    0.005383 -0.044642 -0.036385  0.021872  0.003935  0.015596  0.008142   \n",
       "..        ...       ...       ...       ...       ...       ...       ...   \n",
       "437  0.041708  0.050680  0.019662  0.059744 -0.005697 -0.002566 -0.028674   \n",
       "438 -0.005515  0.050680 -0.015906 -0.067642  0.049341  0.079165 -0.028674   \n",
       "439  0.041708  0.050680 -0.015906  0.017282 -0.037344 -0.013840 -0.024993   \n",
       "440 -0.045472 -0.044642  0.039062  0.001215  0.016318  0.015283 -0.028674   \n",
       "441 -0.045472 -0.044642 -0.073030 -0.081414  0.083740  0.027809  0.173816   \n",
       "\n",
       "           s4        s5        s6  \n",
       "0   -0.002592  0.019908 -0.017646  \n",
       "1   -0.039493 -0.068330 -0.092204  \n",
       "2   -0.002592  0.002864 -0.025930  \n",
       "3    0.034309  0.022692 -0.009362  \n",
       "4   -0.002592 -0.031991 -0.046641  \n",
       "..        ...       ...       ...  \n",
       "437 -0.002592  0.031193  0.007207  \n",
       "438  0.034309 -0.018118  0.044485  \n",
       "439 -0.011080 -0.046879  0.015491  \n",
       "440  0.026560  0.044528 -0.025930  \n",
       "441 -0.039493 -0.004220  0.003064  \n",
       "\n",
       "[442 rows x 10 columns]"
      ]
     },
     "execution_count": 2,
     "metadata": {},
     "output_type": "execute_result"
    }
   ],
   "source": [
    "from sklearn.datasets import load_diabetes \n",
    "diabetes = load_diabetes()\n",
    "df_x = pd.DataFrame(diabetes.data, columns=diabetes.feature_names)\n",
    "df_y = diabetes.target\n",
    "df_x"
   ]
  },
  {
   "cell_type": "markdown",
   "metadata": {},
   "source": [
    "# 2, 3 x,y 값 array"
   ]
  },
  {
   "cell_type": "code",
   "execution_count": 3,
   "metadata": {},
   "outputs": [
    {
     "name": "stdout",
     "output_type": "stream",
     "text": [
      "(442, 10)\n",
      "(442,)\n"
     ]
    }
   ],
   "source": [
    "X=np.array(df_x)\n",
    "y=np.array(df_y)\n",
    "print(X.shape)\n",
    "print(y.shape)"
   ]
  },
  {
   "cell_type": "markdown",
   "metadata": {},
   "source": [
    "# 4.  train 데이터와 test 데이터로 분리하기   \n",
    "X와 y 데이터를 각각 train 데이터와 test 데이터로 분리해주세요."
   ]
  },
  {
   "cell_type": "code",
   "execution_count": 4,
   "metadata": {},
   "outputs": [
    {
     "name": "stdout",
     "output_type": "stream",
     "text": [
      "(353, 10) (353,)\n",
      "(89, 10) (89,)\n"
     ]
    }
   ],
   "source": [
    "from sklearn.model_selection import train_test_split\n",
    "X_train, X_test, y_train, y_test = train_test_split(X, y, test_size=0.2, random_state=42)\n",
    "print(X_train.shape, y_train.shape)\n",
    "print(X_test.shape, y_test.shape)"
   ]
  },
  {
   "cell_type": "markdown",
   "metadata": {},
   "source": [
    "# 5. 모델 준비하기\n",
    "- 입력 데이터 개수에 맞는 가중치 W와 b를 준비해주세요."
   ]
  },
  {
   "cell_type": "code",
   "execution_count": 5,
   "metadata": {},
   "outputs": [],
   "source": [
    "# number of feautre = 10 =W\n",
    "# 임의의 초기값 W ,b 설정\n",
    "W = np.random.rand(10) \n",
    "b = np.random.rand()"
   ]
  },
  {
   "cell_type": "code",
   "execution_count": 6,
   "metadata": {},
   "outputs": [
    {
     "data": {
      "text/plain": [
       "array([0.54993637, 0.82310779, 0.55551643, 0.03650159, 0.42762803,\n",
       "       0.43968359, 0.07772949, 0.14810487, 0.82122943, 0.1060629 ])"
      ]
     },
     "execution_count": 6,
     "metadata": {},
     "output_type": "execute_result"
    }
   ],
   "source": [
    "W"
   ]
  },
  {
   "cell_type": "code",
   "execution_count": 7,
   "metadata": {},
   "outputs": [
    {
     "data": {
      "text/plain": [
       "0.9237378021926701"
      ]
     },
     "execution_count": 7,
     "metadata": {},
     "output_type": "execute_result"
    }
   ],
   "source": [
    "b"
   ]
  },
  {
   "cell_type": "markdown",
   "metadata": {},
   "source": [
    "- 모델 함수 구현"
   ]
  },
  {
   "cell_type": "code",
   "execution_count": 8,
   "metadata": {},
   "outputs": [],
   "source": [
    "def model(X, W, b):\n",
    "    predictions = 0\n",
    "    for i in range(10):\n",
    "        predictions += X[:, i] * W[i]\n",
    "    predictions += b\n",
    "    return predictions"
   ]
  },
  {
   "cell_type": "markdown",
   "metadata": {},
   "source": [
    "# 6. 손실함수 loss 정의하기\n",
    "손실함수를 MSE 함수로 정의해주세요."
   ]
  },
  {
   "cell_type": "code",
   "execution_count": 9,
   "metadata": {},
   "outputs": [],
   "source": [
    "def MSE(a, b):\n",
    "    mse = ((a - b) ** 2).mean()  # 두 값의 차이의 제곱의 평균\n",
    "    return mse"
   ]
  },
  {
   "cell_type": "code",
   "execution_count": 10,
   "metadata": {},
   "outputs": [],
   "source": [
    "def loss(X, W, b, y):\n",
    "    predictions = model(X, W, b)\n",
    "    L = MSE(predictions, y)\n",
    "    return L"
   ]
  },
  {
   "cell_type": "markdown",
   "metadata": {},
   "source": [
    "# 7.  기울기를 구하는 gradient 함수 구현하기\n",
    "기울기를 계산하는 gradient 함수를 구현해주세요."
   ]
  },
  {
   "cell_type": "code",
   "execution_count": 11,
   "metadata": {},
   "outputs": [],
   "source": [
    "def gradient(X, W, b, y):\n",
    "    # N은 가중치의 개수\n",
    "    N = len(W)\n",
    "    \n",
    "    # y_pred 준비\n",
    "    y_pred = model(X, W, b)\n",
    "    \n",
    "    # 공식에 맞게 gradient 계산\n",
    "    dW = 1/N * 2 * X.T.dot(y_pred - y)\n",
    "        \n",
    "    # b의 gradient 계산\n",
    "    db = 2 * (y_pred - y).mean()\n",
    "    return dW, db"
   ]
  },
  {
   "cell_type": "code",
   "execution_count": 12,
   "metadata": {},
   "outputs": [
    {
     "name": "stdout",
     "output_type": "stream",
     "text": [
      "dW: [ -60.57774947  -13.69924342 -189.60578354 -142.70571101  -68.31414348\n",
      "  -56.03938475  127.62585284 -139.01879073 -182.86254918 -123.57203275]\n",
      "db: -302.4194927214066\n"
     ]
    }
   ],
   "source": [
    "dW, db = gradient(X, W, b, y)\n",
    "print(\"dW:\", dW)\n",
    "print(\"db:\", db)"
   ]
  },
  {
   "cell_type": "markdown",
   "metadata": {},
   "source": [
    "# 8. 하이퍼 파라미터인 학습률 설정하기\n",
    "학습률, learning rate 를 설정해주세요   \n",
    "만약 학습이 잘 되지 않는다면 learning rate 값을 한번 여러 가지로 설정하며 실험해 보세요."
   ]
  },
  {
   "cell_type": "code",
   "execution_count": 13,
   "metadata": {},
   "outputs": [],
   "source": [
    "LEARNING_RATE = 0.001"
   ]
  },
  {
   "cell_type": "markdown",
   "metadata": {},
   "source": [
    "# 9. 모델 학습하기\n",
    "정의된 손실함수와 기울기 함수로 모델을 학습해주세요.   \n",
    "loss값이 충분히 떨어질 때까지 학습을 진행해주세요.   \n",
    "입력하는 데이터인 X에 들어가는 특성 컬럼들을 몇 개 빼도 괜찮습니다. 다양한 데이터로 실험해 보세요. "
   ]
  },
  {
   "cell_type": "code",
   "execution_count": 14,
   "metadata": {
    "collapsed": true,
    "jupyter": {
     "outputs_hidden": true
    }
   },
   "outputs": [
    {
     "name": "stdout",
     "output_type": "stream",
     "text": [
      "Iteration 10 : Loss 27848.4249\n",
      "Iteration 20 : Loss 26947.5036\n",
      "Iteration 30 : Loss 26081.4115\n",
      "Iteration 40 : Loss 25248.7846\n",
      "Iteration 50 : Loss 24448.3121\n",
      "Iteration 60 : Loss 23678.7350\n",
      "Iteration 70 : Loss 22938.8435\n",
      "Iteration 80 : Loss 22227.4754\n",
      "Iteration 90 : Loss 21543.5142\n",
      "Iteration 100 : Loss 20885.8871\n",
      "Iteration 110 : Loss 20253.5638\n",
      "Iteration 120 : Loss 19645.5540\n",
      "Iteration 130 : Loss 19060.9066\n",
      "Iteration 140 : Loss 18498.7078\n",
      "Iteration 150 : Loss 17958.0795\n",
      "Iteration 160 : Loss 17438.1784\n",
      "Iteration 170 : Loss 16938.1940\n",
      "Iteration 180 : Loss 16457.3479\n",
      "Iteration 190 : Loss 15994.8920\n",
      "Iteration 200 : Loss 15550.1078\n",
      "Iteration 210 : Loss 15122.3049\n",
      "Iteration 220 : Loss 14710.8200\n",
      "Iteration 230 : Loss 14315.0159\n",
      "Iteration 240 : Loss 13934.2804\n",
      "Iteration 250 : Loss 13568.0252\n",
      "Iteration 260 : Loss 13215.6854\n",
      "Iteration 270 : Loss 12876.7179\n",
      "Iteration 280 : Loss 12550.6012\n",
      "Iteration 290 : Loss 12236.8342\n",
      "Iteration 300 : Loss 11934.9354\n",
      "Iteration 310 : Loss 11644.4421\n",
      "Iteration 320 : Loss 11364.9101\n",
      "Iteration 330 : Loss 11095.9122\n",
      "Iteration 340 : Loss 10837.0384\n",
      "Iteration 350 : Loss 10587.8945\n",
      "Iteration 360 : Loss 10348.1017\n",
      "Iteration 370 : Loss 10117.2964\n",
      "Iteration 380 : Loss 9895.1288\n",
      "Iteration 390 : Loss 9681.2634\n",
      "Iteration 400 : Loss 9475.3772\n",
      "Iteration 410 : Loss 9277.1605\n",
      "Iteration 420 : Loss 9086.3152\n",
      "Iteration 430 : Loss 8902.5553\n",
      "Iteration 440 : Loss 8725.6058\n",
      "Iteration 450 : Loss 8555.2025\n",
      "Iteration 460 : Loss 8391.0917\n",
      "Iteration 470 : Loss 8233.0293\n",
      "Iteration 480 : Loss 8080.7812\n",
      "Iteration 490 : Loss 7934.1223\n",
      "Iteration 500 : Loss 7792.8361\n",
      "Iteration 510 : Loss 7656.7149\n",
      "Iteration 520 : Loss 7525.5590\n",
      "Iteration 530 : Loss 7399.1765\n",
      "Iteration 540 : Loss 7277.3831\n",
      "Iteration 550 : Loss 7160.0017\n",
      "Iteration 560 : Loss 7046.8619\n",
      "Iteration 570 : Loss 6937.8004\n",
      "Iteration 580 : Loss 6832.6600\n",
      "Iteration 590 : Loss 6731.2896\n",
      "Iteration 600 : Loss 6633.5443\n",
      "Iteration 610 : Loss 6539.2846\n",
      "Iteration 620 : Loss 6448.3765\n",
      "Iteration 630 : Loss 6360.6914\n",
      "Iteration 640 : Loss 6276.1057\n",
      "Iteration 650 : Loss 6194.5003\n",
      "Iteration 660 : Loss 6115.7613\n",
      "Iteration 670 : Loss 6039.7787\n",
      "Iteration 680 : Loss 5966.4473\n",
      "Iteration 690 : Loss 5895.6656\n",
      "Iteration 700 : Loss 5827.3363\n",
      "Iteration 710 : Loss 5761.3659\n",
      "Iteration 720 : Loss 5697.6644\n",
      "Iteration 730 : Loss 5636.1454\n",
      "Iteration 740 : Loss 5576.7260\n",
      "Iteration 750 : Loss 5519.3262\n",
      "Iteration 760 : Loss 5463.8695\n",
      "Iteration 770 : Loss 5410.2822\n",
      "Iteration 780 : Loss 5358.4933\n",
      "Iteration 790 : Loss 5308.4350\n",
      "Iteration 800 : Loss 5260.0417\n",
      "Iteration 810 : Loss 5213.2507\n",
      "Iteration 820 : Loss 5168.0015\n",
      "Iteration 830 : Loss 5124.2360\n",
      "Iteration 840 : Loss 5081.8985\n",
      "Iteration 850 : Loss 5040.9353\n",
      "Iteration 860 : Loss 5001.2949\n",
      "Iteration 870 : Loss 4962.9277\n",
      "Iteration 880 : Loss 4925.7861\n",
      "Iteration 890 : Loss 4889.8245\n",
      "Iteration 900 : Loss 4854.9987\n",
      "Iteration 910 : Loss 4821.2665\n",
      "Iteration 920 : Loss 4788.5873\n",
      "Iteration 930 : Loss 4756.9219\n",
      "Iteration 940 : Loss 4726.2329\n",
      "Iteration 950 : Loss 4696.4841\n",
      "Iteration 960 : Loss 4667.6409\n",
      "Iteration 970 : Loss 4639.6699\n",
      "Iteration 980 : Loss 4612.5390\n",
      "Iteration 990 : Loss 4586.2174\n",
      "Iteration 1000 : Loss 4560.6754\n",
      "Iteration 1010 : Loss 4535.8847\n",
      "Iteration 1020 : Loss 4511.8177\n",
      "Iteration 1030 : Loss 4488.4481\n",
      "Iteration 1040 : Loss 4465.7507\n",
      "Iteration 1050 : Loss 4443.7011\n",
      "Iteration 1060 : Loss 4422.2759\n",
      "Iteration 1070 : Loss 4401.4525\n",
      "Iteration 1080 : Loss 4381.2094\n",
      "Iteration 1090 : Loss 4361.5257\n",
      "Iteration 1100 : Loss 4342.3815\n",
      "Iteration 1110 : Loss 4323.7574\n",
      "Iteration 1120 : Loss 4305.6349\n",
      "Iteration 1130 : Loss 4287.9964\n",
      "Iteration 1140 : Loss 4270.8246\n",
      "Iteration 1150 : Loss 4254.1032\n",
      "Iteration 1160 : Loss 4237.8162\n",
      "Iteration 1170 : Loss 4221.9485\n",
      "Iteration 1180 : Loss 4206.4853\n",
      "Iteration 1190 : Loss 4191.4127\n",
      "Iteration 1200 : Loss 4176.7171\n",
      "Iteration 1210 : Loss 4162.3854\n",
      "Iteration 1220 : Loss 4148.4051\n",
      "Iteration 1230 : Loss 4134.7641\n",
      "Iteration 1240 : Loss 4121.4508\n",
      "Iteration 1250 : Loss 4108.4541\n",
      "Iteration 1260 : Loss 4095.7632\n",
      "Iteration 1270 : Loss 4083.3677\n",
      "Iteration 1280 : Loss 4071.2578\n",
      "Iteration 1290 : Loss 4059.4238\n",
      "Iteration 1300 : Loss 4047.8566\n",
      "Iteration 1310 : Loss 4036.5472\n",
      "Iteration 1320 : Loss 4025.4872\n",
      "Iteration 1330 : Loss 4014.6682\n",
      "Iteration 1340 : Loss 4004.0825\n",
      "Iteration 1350 : Loss 3993.7224\n",
      "Iteration 1360 : Loss 3983.5806\n",
      "Iteration 1370 : Loss 3973.6500\n",
      "Iteration 1380 : Loss 3963.9238\n",
      "Iteration 1390 : Loss 3954.3955\n",
      "Iteration 1400 : Loss 3945.0588\n",
      "Iteration 1410 : Loss 3935.9076\n",
      "Iteration 1420 : Loss 3926.9361\n",
      "Iteration 1430 : Loss 3918.1387\n",
      "Iteration 1440 : Loss 3909.5099\n",
      "Iteration 1450 : Loss 3901.0446\n",
      "Iteration 1460 : Loss 3892.7377\n",
      "Iteration 1470 : Loss 3884.5843\n",
      "Iteration 1480 : Loss 3876.5798\n",
      "Iteration 1490 : Loss 3868.7197\n",
      "Iteration 1500 : Loss 3860.9997\n",
      "Iteration 1510 : Loss 3853.4156\n",
      "Iteration 1520 : Loss 3845.9634\n",
      "Iteration 1530 : Loss 3838.6391\n",
      "Iteration 1540 : Loss 3831.4391\n",
      "Iteration 1550 : Loss 3824.3597\n",
      "Iteration 1560 : Loss 3817.3976\n",
      "Iteration 1570 : Loss 3810.5492\n",
      "Iteration 1580 : Loss 3803.8114\n",
      "Iteration 1590 : Loss 3797.1811\n",
      "Iteration 1600 : Loss 3790.6553\n",
      "Iteration 1610 : Loss 3784.2310\n",
      "Iteration 1620 : Loss 3777.9056\n",
      "Iteration 1630 : Loss 3771.6761\n",
      "Iteration 1640 : Loss 3765.5402\n",
      "Iteration 1650 : Loss 3759.4952\n",
      "Iteration 1660 : Loss 3753.5387\n",
      "Iteration 1670 : Loss 3747.6685\n",
      "Iteration 1680 : Loss 3741.8821\n",
      "Iteration 1690 : Loss 3736.1775\n",
      "Iteration 1700 : Loss 3730.5525\n",
      "Iteration 1710 : Loss 3725.0052\n",
      "Iteration 1720 : Loss 3719.5334\n",
      "Iteration 1730 : Loss 3714.1354\n",
      "Iteration 1740 : Loss 3708.8093\n",
      "Iteration 1750 : Loss 3703.5534\n",
      "Iteration 1760 : Loss 3698.3658\n",
      "Iteration 1770 : Loss 3693.2450\n",
      "Iteration 1780 : Loss 3688.1894\n",
      "Iteration 1790 : Loss 3683.1973\n",
      "Iteration 1800 : Loss 3678.2674\n",
      "Iteration 1810 : Loss 3673.3981\n",
      "Iteration 1820 : Loss 3668.5881\n",
      "Iteration 1830 : Loss 3663.8360\n",
      "Iteration 1840 : Loss 3659.1404\n",
      "Iteration 1850 : Loss 3654.5002\n",
      "Iteration 1860 : Loss 3649.9141\n",
      "Iteration 1870 : Loss 3645.3810\n",
      "Iteration 1880 : Loss 3640.8995\n",
      "Iteration 1890 : Loss 3636.4687\n",
      "Iteration 1900 : Loss 3632.0875\n",
      "Iteration 1910 : Loss 3627.7548\n",
      "Iteration 1920 : Loss 3623.4695\n",
      "Iteration 1930 : Loss 3619.2308\n",
      "Iteration 1940 : Loss 3615.0377\n",
      "Iteration 1950 : Loss 3610.8892\n",
      "Iteration 1960 : Loss 3606.7845\n",
      "Iteration 1970 : Loss 3602.7226\n",
      "Iteration 1980 : Loss 3598.7028\n",
      "Iteration 1990 : Loss 3594.7242\n",
      "Iteration 2000 : Loss 3590.7860\n",
      "Iteration 2010 : Loss 3586.8875\n",
      "Iteration 2020 : Loss 3583.0278\n",
      "Iteration 2030 : Loss 3579.2064\n",
      "Iteration 2040 : Loss 3575.4225\n",
      "Iteration 2050 : Loss 3571.6753\n",
      "Iteration 2060 : Loss 3567.9643\n",
      "Iteration 2070 : Loss 3564.2888\n",
      "Iteration 2080 : Loss 3560.6481\n",
      "Iteration 2090 : Loss 3557.0416\n",
      "Iteration 2100 : Loss 3553.4689\n",
      "Iteration 2110 : Loss 3549.9292\n",
      "Iteration 2120 : Loss 3546.4220\n",
      "Iteration 2130 : Loss 3542.9467\n",
      "Iteration 2140 : Loss 3539.5030\n",
      "Iteration 2150 : Loss 3536.0901\n",
      "Iteration 2160 : Loss 3532.7076\n",
      "Iteration 2170 : Loss 3529.3551\n",
      "Iteration 2180 : Loss 3526.0320\n",
      "Iteration 2190 : Loss 3522.7379\n",
      "Iteration 2200 : Loss 3519.4723\n",
      "Iteration 2210 : Loss 3516.2348\n",
      "Iteration 2220 : Loss 3513.0250\n",
      "Iteration 2230 : Loss 3509.8424\n",
      "Iteration 2240 : Loss 3506.6866\n",
      "Iteration 2250 : Loss 3503.5572\n",
      "Iteration 2260 : Loss 3500.4538\n",
      "Iteration 2270 : Loss 3497.3761\n",
      "Iteration 2280 : Loss 3494.3237\n",
      "Iteration 2290 : Loss 3491.2962\n",
      "Iteration 2300 : Loss 3488.2933\n",
      "Iteration 2310 : Loss 3485.3145\n",
      "Iteration 2320 : Loss 3482.3597\n",
      "Iteration 2330 : Loss 3479.4284\n",
      "Iteration 2340 : Loss 3476.5203\n",
      "Iteration 2350 : Loss 3473.6351\n",
      "Iteration 2360 : Loss 3470.7725\n",
      "Iteration 2370 : Loss 3467.9322\n",
      "Iteration 2380 : Loss 3465.1139\n",
      "Iteration 2390 : Loss 3462.3173\n",
      "Iteration 2400 : Loss 3459.5421\n",
      "Iteration 2410 : Loss 3456.7881\n",
      "Iteration 2420 : Loss 3454.0549\n",
      "Iteration 2430 : Loss 3451.3424\n",
      "Iteration 2440 : Loss 3448.6502\n",
      "Iteration 2450 : Loss 3445.9781\n",
      "Iteration 2460 : Loss 3443.3259\n",
      "Iteration 2470 : Loss 3440.6932\n",
      "Iteration 2480 : Loss 3438.0799\n",
      "Iteration 2490 : Loss 3435.4858\n",
      "Iteration 2500 : Loss 3432.9105\n",
      "Iteration 2510 : Loss 3430.3540\n",
      "Iteration 2520 : Loss 3427.8158\n",
      "Iteration 2530 : Loss 3425.2959\n",
      "Iteration 2540 : Loss 3422.7941\n",
      "Iteration 2550 : Loss 3420.3100\n",
      "Iteration 2560 : Loss 3417.8435\n",
      "Iteration 2570 : Loss 3415.3944\n",
      "Iteration 2580 : Loss 3412.9626\n",
      "Iteration 2590 : Loss 3410.5477\n",
      "Iteration 2600 : Loss 3408.1497\n",
      "Iteration 2610 : Loss 3405.7683\n",
      "Iteration 2620 : Loss 3403.4033\n",
      "Iteration 2630 : Loss 3401.0546\n",
      "Iteration 2640 : Loss 3398.7220\n",
      "Iteration 2650 : Loss 3396.4053\n",
      "Iteration 2660 : Loss 3394.1044\n",
      "Iteration 2670 : Loss 3391.8190\n",
      "Iteration 2680 : Loss 3389.5490\n",
      "Iteration 2690 : Loss 3387.2943\n",
      "Iteration 2700 : Loss 3385.0546\n",
      "Iteration 2710 : Loss 3382.8299\n",
      "Iteration 2720 : Loss 3380.6199\n",
      "Iteration 2730 : Loss 3378.4245\n",
      "Iteration 2740 : Loss 3376.2436\n",
      "Iteration 2750 : Loss 3374.0770\n",
      "Iteration 2760 : Loss 3371.9246\n",
      "Iteration 2770 : Loss 3369.7862\n",
      "Iteration 2780 : Loss 3367.6617\n",
      "Iteration 2790 : Loss 3365.5509\n",
      "Iteration 2800 : Loss 3363.4537\n",
      "Iteration 2810 : Loss 3361.3700\n",
      "Iteration 2820 : Loss 3359.2996\n",
      "Iteration 2830 : Loss 3357.2424\n",
      "Iteration 2840 : Loss 3355.1983\n",
      "Iteration 2850 : Loss 3353.1671\n",
      "Iteration 2860 : Loss 3351.1488\n",
      "Iteration 2870 : Loss 3349.1431\n",
      "Iteration 2880 : Loss 3347.1500\n",
      "Iteration 2890 : Loss 3345.1694\n",
      "Iteration 2900 : Loss 3343.2011\n",
      "Iteration 2910 : Loss 3341.2450\n",
      "Iteration 2920 : Loss 3339.3010\n",
      "Iteration 2930 : Loss 3337.3690\n",
      "Iteration 2940 : Loss 3335.4489\n",
      "Iteration 2950 : Loss 3333.5405\n",
      "Iteration 2960 : Loss 3331.6438\n",
      "Iteration 2970 : Loss 3329.7587\n",
      "Iteration 2980 : Loss 3327.8849\n",
      "Iteration 2990 : Loss 3326.0226\n",
      "Iteration 3000 : Loss 3324.1714\n",
      "Iteration 3010 : Loss 3322.3314\n",
      "Iteration 3020 : Loss 3320.5023\n",
      "Iteration 3030 : Loss 3318.6843\n",
      "Iteration 3040 : Loss 3316.8770\n",
      "Iteration 3050 : Loss 3315.0805\n",
      "Iteration 3060 : Loss 3313.2946\n",
      "Iteration 3070 : Loss 3311.5192\n",
      "Iteration 3080 : Loss 3309.7543\n",
      "Iteration 3090 : Loss 3307.9998\n",
      "Iteration 3100 : Loss 3306.2555\n",
      "Iteration 3110 : Loss 3304.5214\n",
      "Iteration 3120 : Loss 3302.7974\n",
      "Iteration 3130 : Loss 3301.0833\n",
      "Iteration 3140 : Loss 3299.3792\n",
      "Iteration 3150 : Loss 3297.6849\n",
      "Iteration 3160 : Loss 3296.0004\n",
      "Iteration 3170 : Loss 3294.3255\n",
      "Iteration 3180 : Loss 3292.6601\n",
      "Iteration 3190 : Loss 3291.0043\n",
      "Iteration 3200 : Loss 3289.3579\n",
      "Iteration 3210 : Loss 3287.7208\n",
      "Iteration 3220 : Loss 3286.0929\n",
      "Iteration 3230 : Loss 3284.4743\n",
      "Iteration 3240 : Loss 3282.8647\n",
      "Iteration 3250 : Loss 3281.2641\n",
      "Iteration 3260 : Loss 3279.6725\n",
      "Iteration 3270 : Loss 3278.0898\n",
      "Iteration 3280 : Loss 3276.5158\n",
      "Iteration 3290 : Loss 3274.9506\n",
      "Iteration 3300 : Loss 3273.3941\n",
      "Iteration 3310 : Loss 3271.8461\n",
      "Iteration 3320 : Loss 3270.3066\n",
      "Iteration 3330 : Loss 3268.7756\n",
      "Iteration 3340 : Loss 3267.2529\n",
      "Iteration 3350 : Loss 3265.7386\n",
      "Iteration 3360 : Loss 3264.2325\n",
      "Iteration 3370 : Loss 3262.7346\n",
      "Iteration 3380 : Loss 3261.2448\n",
      "Iteration 3390 : Loss 3259.7630\n",
      "Iteration 3400 : Loss 3258.2892\n",
      "Iteration 3410 : Loss 3256.8233\n",
      "Iteration 3420 : Loss 3255.3653\n",
      "Iteration 3430 : Loss 3253.9150\n",
      "Iteration 3440 : Loss 3252.4725\n",
      "Iteration 3450 : Loss 3251.0377\n",
      "Iteration 3460 : Loss 3249.6104\n",
      "Iteration 3470 : Loss 3248.1908\n",
      "Iteration 3480 : Loss 3246.7786\n",
      "Iteration 3490 : Loss 3245.3738\n",
      "Iteration 3500 : Loss 3243.9764\n",
      "Iteration 3510 : Loss 3242.5864\n",
      "Iteration 3520 : Loss 3241.2035\n",
      "Iteration 3530 : Loss 3239.8279\n",
      "Iteration 3540 : Loss 3238.4595\n",
      "Iteration 3550 : Loss 3237.0981\n",
      "Iteration 3560 : Loss 3235.7438\n",
      "Iteration 3570 : Loss 3234.3965\n",
      "Iteration 3580 : Loss 3233.0561\n",
      "Iteration 3590 : Loss 3231.7226\n",
      "Iteration 3600 : Loss 3230.3960\n",
      "Iteration 3610 : Loss 3229.0761\n",
      "Iteration 3620 : Loss 3227.7629\n",
      "Iteration 3630 : Loss 3226.4565\n",
      "Iteration 3640 : Loss 3225.1566\n",
      "Iteration 3650 : Loss 3223.8634\n",
      "Iteration 3660 : Loss 3222.5766\n",
      "Iteration 3670 : Loss 3221.2964\n",
      "Iteration 3680 : Loss 3220.0226\n",
      "Iteration 3690 : Loss 3218.7552\n",
      "Iteration 3700 : Loss 3217.4941\n",
      "Iteration 3710 : Loss 3216.2393\n",
      "Iteration 3720 : Loss 3214.9908\n",
      "Iteration 3730 : Loss 3213.7485\n",
      "Iteration 3740 : Loss 3212.5124\n",
      "Iteration 3750 : Loss 3211.2823\n",
      "Iteration 3760 : Loss 3210.0584\n",
      "Iteration 3770 : Loss 3208.8404\n",
      "Iteration 3780 : Loss 3207.6285\n",
      "Iteration 3790 : Loss 3206.4225\n",
      "Iteration 3800 : Loss 3205.2224\n",
      "Iteration 3810 : Loss 3204.0282\n",
      "Iteration 3820 : Loss 3202.8398\n",
      "Iteration 3830 : Loss 3201.6571\n",
      "Iteration 3840 : Loss 3200.4803\n",
      "Iteration 3850 : Loss 3199.3091\n",
      "Iteration 3860 : Loss 3198.1435\n",
      "Iteration 3870 : Loss 3196.9836\n",
      "Iteration 3880 : Loss 3195.8293\n",
      "Iteration 3890 : Loss 3194.6805\n",
      "Iteration 3900 : Loss 3193.5372\n",
      "Iteration 3910 : Loss 3192.3994\n",
      "Iteration 3920 : Loss 3191.2670\n",
      "Iteration 3930 : Loss 3190.1400\n",
      "Iteration 3940 : Loss 3189.0183\n",
      "Iteration 3950 : Loss 3187.9020\n",
      "Iteration 3960 : Loss 3186.7909\n",
      "Iteration 3970 : Loss 3185.6851\n",
      "Iteration 3980 : Loss 3184.5845\n",
      "Iteration 3990 : Loss 3183.4891\n",
      "Iteration 4000 : Loss 3182.3989\n",
      "Iteration 4010 : Loss 3181.3137\n",
      "Iteration 4020 : Loss 3180.2336\n",
      "Iteration 4030 : Loss 3179.1585\n",
      "Iteration 4040 : Loss 3178.0885\n",
      "Iteration 4050 : Loss 3177.0234\n",
      "Iteration 4060 : Loss 3175.9633\n",
      "Iteration 4070 : Loss 3174.9080\n",
      "Iteration 4080 : Loss 3173.8577\n",
      "Iteration 4090 : Loss 3172.8122\n",
      "Iteration 4100 : Loss 3171.7715\n",
      "Iteration 4110 : Loss 3170.7356\n",
      "Iteration 4120 : Loss 3169.7044\n",
      "Iteration 4130 : Loss 3168.6779\n",
      "Iteration 4140 : Loss 3167.6562\n",
      "Iteration 4150 : Loss 3166.6391\n",
      "Iteration 4160 : Loss 3165.6266\n",
      "Iteration 4170 : Loss 3164.6187\n",
      "Iteration 4180 : Loss 3163.6154\n",
      "Iteration 4190 : Loss 3162.6167\n",
      "Iteration 4200 : Loss 3161.6224\n",
      "Iteration 4210 : Loss 3160.6326\n",
      "Iteration 4220 : Loss 3159.6473\n",
      "Iteration 4230 : Loss 3158.6664\n",
      "Iteration 4240 : Loss 3157.6899\n",
      "Iteration 4250 : Loss 3156.7178\n",
      "Iteration 4260 : Loss 3155.7501\n",
      "Iteration 4270 : Loss 3154.7866\n",
      "Iteration 4280 : Loss 3153.8274\n",
      "Iteration 4290 : Loss 3152.8725\n",
      "Iteration 4300 : Loss 3151.9219\n",
      "Iteration 4310 : Loss 3150.9754\n",
      "Iteration 4320 : Loss 3150.0331\n",
      "Iteration 4330 : Loss 3149.0950\n",
      "Iteration 4340 : Loss 3148.1611\n",
      "Iteration 4350 : Loss 3147.2312\n",
      "Iteration 4360 : Loss 3146.3054\n",
      "Iteration 4370 : Loss 3145.3837\n",
      "Iteration 4380 : Loss 3144.4660\n",
      "Iteration 4390 : Loss 3143.5523\n",
      "Iteration 4400 : Loss 3142.6427\n",
      "Iteration 4410 : Loss 3141.7369\n",
      "Iteration 4420 : Loss 3140.8352\n",
      "Iteration 4430 : Loss 3139.9373\n",
      "Iteration 4440 : Loss 3139.0433\n",
      "Iteration 4450 : Loss 3138.1532\n",
      "Iteration 4460 : Loss 3137.2670\n",
      "Iteration 4470 : Loss 3136.3845\n",
      "Iteration 4480 : Loss 3135.5059\n",
      "Iteration 4490 : Loss 3134.6310\n",
      "Iteration 4500 : Loss 3133.7599\n",
      "Iteration 4510 : Loss 3132.8926\n",
      "Iteration 4520 : Loss 3132.0289\n",
      "Iteration 4530 : Loss 3131.1690\n",
      "Iteration 4540 : Loss 3130.3127\n",
      "Iteration 4550 : Loss 3129.4600\n",
      "Iteration 4560 : Loss 3128.6110\n",
      "Iteration 4570 : Loss 3127.7656\n",
      "Iteration 4580 : Loss 3126.9238\n",
      "Iteration 4590 : Loss 3126.0856\n",
      "Iteration 4600 : Loss 3125.2509\n",
      "Iteration 4610 : Loss 3124.4197\n",
      "Iteration 4620 : Loss 3123.5920\n",
      "Iteration 4630 : Loss 3122.7678\n",
      "Iteration 4640 : Loss 3121.9471\n",
      "Iteration 4650 : Loss 3121.1298\n",
      "Iteration 4660 : Loss 3120.3160\n",
      "Iteration 4670 : Loss 3119.5055\n",
      "Iteration 4680 : Loss 3118.6985\n",
      "Iteration 4690 : Loss 3117.8948\n",
      "Iteration 4700 : Loss 3117.0945\n",
      "Iteration 4710 : Loss 3116.2975\n",
      "Iteration 4720 : Loss 3115.5038\n",
      "Iteration 4730 : Loss 3114.7134\n",
      "Iteration 4740 : Loss 3113.9263\n",
      "Iteration 4750 : Loss 3113.1425\n",
      "Iteration 4760 : Loss 3112.3618\n",
      "Iteration 4770 : Loss 3111.5845\n",
      "Iteration 4780 : Loss 3110.8103\n",
      "Iteration 4790 : Loss 3110.0393\n",
      "Iteration 4800 : Loss 3109.2715\n",
      "Iteration 4810 : Loss 3108.5068\n",
      "Iteration 4820 : Loss 3107.7453\n",
      "Iteration 4830 : Loss 3106.9869\n",
      "Iteration 4840 : Loss 3106.2316\n",
      "Iteration 4850 : Loss 3105.4794\n",
      "Iteration 4860 : Loss 3104.7303\n",
      "Iteration 4870 : Loss 3103.9842\n",
      "Iteration 4880 : Loss 3103.2411\n",
      "Iteration 4890 : Loss 3102.5011\n",
      "Iteration 4900 : Loss 3101.7641\n",
      "Iteration 4910 : Loss 3101.0301\n",
      "Iteration 4920 : Loss 3100.2990\n",
      "Iteration 4930 : Loss 3099.5709\n",
      "Iteration 4940 : Loss 3098.8458\n",
      "Iteration 4950 : Loss 3098.1235\n",
      "Iteration 4960 : Loss 3097.4042\n",
      "Iteration 4970 : Loss 3096.6878\n",
      "Iteration 4980 : Loss 3095.9743\n",
      "Iteration 4990 : Loss 3095.2636\n",
      "Iteration 5000 : Loss 3094.5558\n",
      "Iteration 5010 : Loss 3093.8508\n",
      "Iteration 5020 : Loss 3093.1487\n",
      "Iteration 5030 : Loss 3092.4494\n",
      "Iteration 5040 : Loss 3091.7528\n",
      "Iteration 5050 : Loss 3091.0590\n",
      "Iteration 5060 : Loss 3090.3680\n",
      "Iteration 5070 : Loss 3089.6798\n",
      "Iteration 5080 : Loss 3088.9943\n",
      "Iteration 5090 : Loss 3088.3115\n",
      "Iteration 5100 : Loss 3087.6314\n",
      "Iteration 5110 : Loss 3086.9540\n",
      "Iteration 5120 : Loss 3086.2793\n",
      "Iteration 5130 : Loss 3085.6073\n",
      "Iteration 5140 : Loss 3084.9379\n",
      "Iteration 5150 : Loss 3084.2712\n",
      "Iteration 5160 : Loss 3083.6071\n",
      "Iteration 5170 : Loss 3082.9456\n",
      "Iteration 5180 : Loss 3082.2868\n",
      "Iteration 5190 : Loss 3081.6305\n",
      "Iteration 5200 : Loss 3080.9768\n",
      "Iteration 5210 : Loss 3080.3256\n",
      "Iteration 5220 : Loss 3079.6770\n",
      "Iteration 5230 : Loss 3079.0310\n",
      "Iteration 5240 : Loss 3078.3874\n",
      "Iteration 5250 : Loss 3077.7464\n",
      "Iteration 5260 : Loss 3077.1079\n",
      "Iteration 5270 : Loss 3076.4719\n",
      "Iteration 5280 : Loss 3075.8383\n",
      "Iteration 5290 : Loss 3075.2073\n",
      "Iteration 5300 : Loss 3074.5786\n",
      "Iteration 5310 : Loss 3073.9525\n",
      "Iteration 5320 : Loss 3073.3287\n",
      "Iteration 5330 : Loss 3072.7074\n",
      "Iteration 5340 : Loss 3072.0885\n",
      "Iteration 5350 : Loss 3071.4719\n",
      "Iteration 5360 : Loss 3070.8578\n",
      "Iteration 5370 : Loss 3070.2460\n",
      "Iteration 5380 : Loss 3069.6366\n",
      "Iteration 5390 : Loss 3069.0296\n",
      "Iteration 5400 : Loss 3068.4248\n",
      "Iteration 5410 : Loss 3067.8225\n",
      "Iteration 5420 : Loss 3067.2224\n",
      "Iteration 5430 : Loss 3066.6246\n",
      "Iteration 5440 : Loss 3066.0291\n",
      "Iteration 5450 : Loss 3065.4359\n",
      "Iteration 5460 : Loss 3064.8450\n",
      "Iteration 5470 : Loss 3064.2564\n",
      "Iteration 5480 : Loss 3063.6700\n",
      "Iteration 5490 : Loss 3063.0858\n",
      "Iteration 5500 : Loss 3062.5039\n",
      "Iteration 5510 : Loss 3061.9242\n",
      "Iteration 5520 : Loss 3061.3467\n",
      "Iteration 5530 : Loss 3060.7714\n",
      "Iteration 5540 : Loss 3060.1983\n",
      "Iteration 5550 : Loss 3059.6274\n",
      "Iteration 5560 : Loss 3059.0586\n",
      "Iteration 5570 : Loss 3058.4920\n",
      "Iteration 5580 : Loss 3057.9276\n",
      "Iteration 5590 : Loss 3057.3653\n",
      "Iteration 5600 : Loss 3056.8051\n",
      "Iteration 5610 : Loss 3056.2470\n",
      "Iteration 5620 : Loss 3055.6911\n",
      "Iteration 5630 : Loss 3055.1372\n",
      "Iteration 5640 : Loss 3054.5855\n",
      "Iteration 5650 : Loss 3054.0358\n",
      "Iteration 5660 : Loss 3053.4882\n",
      "Iteration 5670 : Loss 3052.9427\n",
      "Iteration 5680 : Loss 3052.3992\n",
      "Iteration 5690 : Loss 3051.8578\n",
      "Iteration 5700 : Loss 3051.3184\n",
      "Iteration 5710 : Loss 3050.7810\n",
      "Iteration 5720 : Loss 3050.2457\n",
      "Iteration 5730 : Loss 3049.7123\n",
      "Iteration 5740 : Loss 3049.1810\n",
      "Iteration 5750 : Loss 3048.6516\n",
      "Iteration 5760 : Loss 3048.1242\n",
      "Iteration 5770 : Loss 3047.5988\n",
      "Iteration 5780 : Loss 3047.0754\n",
      "Iteration 5790 : Loss 3046.5539\n",
      "Iteration 5800 : Loss 3046.0344\n",
      "Iteration 5810 : Loss 3045.5168\n",
      "Iteration 5820 : Loss 3045.0011\n",
      "Iteration 5830 : Loss 3044.4874\n",
      "Iteration 5840 : Loss 3043.9755\n",
      "Iteration 5850 : Loss 3043.4656\n",
      "Iteration 5860 : Loss 3042.9576\n",
      "Iteration 5870 : Loss 3042.4514\n",
      "Iteration 5880 : Loss 3041.9472\n",
      "Iteration 5890 : Loss 3041.4448\n",
      "Iteration 5900 : Loss 3040.9442\n",
      "Iteration 5910 : Loss 3040.4455\n",
      "Iteration 5920 : Loss 3039.9487\n",
      "Iteration 5930 : Loss 3039.4537\n",
      "Iteration 5940 : Loss 3038.9606\n",
      "Iteration 5950 : Loss 3038.4692\n",
      "Iteration 5960 : Loss 3037.9797\n",
      "Iteration 5970 : Loss 3037.4920\n",
      "Iteration 5980 : Loss 3037.0061\n",
      "Iteration 5990 : Loss 3036.5219\n",
      "Iteration 6000 : Loss 3036.0396\n",
      "Iteration 6010 : Loss 3035.5590\n",
      "Iteration 6020 : Loss 3035.0802\n",
      "Iteration 6030 : Loss 3034.6032\n",
      "Iteration 6040 : Loss 3034.1279\n",
      "Iteration 6050 : Loss 3033.6544\n",
      "Iteration 6060 : Loss 3033.1826\n",
      "Iteration 6070 : Loss 3032.7125\n",
      "Iteration 6080 : Loss 3032.2442\n",
      "Iteration 6090 : Loss 3031.7775\n",
      "Iteration 6100 : Loss 3031.3126\n",
      "Iteration 6110 : Loss 3030.8494\n",
      "Iteration 6120 : Loss 3030.3879\n",
      "Iteration 6130 : Loss 3029.9280\n",
      "Iteration 6140 : Loss 3029.4699\n",
      "Iteration 6150 : Loss 3029.0134\n",
      "Iteration 6160 : Loss 3028.5586\n",
      "Iteration 6170 : Loss 3028.1054\n",
      "Iteration 6180 : Loss 3027.6539\n",
      "Iteration 6190 : Loss 3027.2041\n",
      "Iteration 6200 : Loss 3026.7559\n",
      "Iteration 6210 : Loss 3026.3093\n",
      "Iteration 6220 : Loss 3025.8643\n",
      "Iteration 6230 : Loss 3025.4210\n",
      "Iteration 6240 : Loss 3024.9792\n",
      "Iteration 6250 : Loss 3024.5391\n",
      "Iteration 6260 : Loss 3024.1006\n",
      "Iteration 6270 : Loss 3023.6637\n",
      "Iteration 6280 : Loss 3023.2283\n",
      "Iteration 6290 : Loss 3022.7945\n",
      "Iteration 6300 : Loss 3022.3623\n",
      "Iteration 6310 : Loss 3021.9317\n",
      "Iteration 6320 : Loss 3021.5026\n",
      "Iteration 6330 : Loss 3021.0751\n",
      "Iteration 6340 : Loss 3020.6491\n",
      "Iteration 6350 : Loss 3020.2247\n",
      "Iteration 6360 : Loss 3019.8018\n",
      "Iteration 6370 : Loss 3019.3804\n",
      "Iteration 6380 : Loss 3018.9605\n",
      "Iteration 6390 : Loss 3018.5422\n",
      "Iteration 6400 : Loss 3018.1254\n",
      "Iteration 6410 : Loss 3017.7100\n",
      "Iteration 6420 : Loss 3017.2962\n",
      "Iteration 6430 : Loss 3016.8839\n",
      "Iteration 6440 : Loss 3016.4730\n",
      "Iteration 6450 : Loss 3016.0636\n",
      "Iteration 6460 : Loss 3015.6557\n",
      "Iteration 6470 : Loss 3015.2493\n",
      "Iteration 6480 : Loss 3014.8443\n",
      "Iteration 6490 : Loss 3014.4408\n",
      "Iteration 6500 : Loss 3014.0387\n",
      "Iteration 6510 : Loss 3013.6380\n",
      "Iteration 6520 : Loss 3013.2388\n",
      "Iteration 6530 : Loss 3012.8411\n",
      "Iteration 6540 : Loss 3012.4447\n",
      "Iteration 6550 : Loss 3012.0498\n",
      "Iteration 6560 : Loss 3011.6563\n",
      "Iteration 6570 : Loss 3011.2642\n",
      "Iteration 6580 : Loss 3010.8735\n",
      "Iteration 6590 : Loss 3010.4842\n",
      "Iteration 6600 : Loss 3010.0963\n",
      "Iteration 6610 : Loss 3009.7097\n",
      "Iteration 6620 : Loss 3009.3246\n",
      "Iteration 6630 : Loss 3008.9408\n",
      "Iteration 6640 : Loss 3008.5584\n",
      "Iteration 6650 : Loss 3008.1774\n",
      "Iteration 6660 : Loss 3007.7977\n",
      "Iteration 6670 : Loss 3007.4194\n",
      "Iteration 6680 : Loss 3007.0424\n",
      "Iteration 6690 : Loss 3006.6668\n",
      "Iteration 6700 : Loss 3006.2925\n",
      "Iteration 6710 : Loss 3005.9195\n",
      "Iteration 6720 : Loss 3005.5478\n",
      "Iteration 6730 : Loss 3005.1775\n",
      "Iteration 6740 : Loss 3004.8085\n",
      "Iteration 6750 : Loss 3004.4408\n",
      "Iteration 6760 : Loss 3004.0744\n",
      "Iteration 6770 : Loss 3003.7093\n",
      "Iteration 6780 : Loss 3003.3456\n",
      "Iteration 6790 : Loss 3002.9831\n",
      "Iteration 6800 : Loss 3002.6218\n",
      "Iteration 6810 : Loss 3002.2619\n",
      "Iteration 6820 : Loss 3001.9032\n",
      "Iteration 6830 : Loss 3001.5458\n",
      "Iteration 6840 : Loss 3001.1897\n",
      "Iteration 6850 : Loss 3000.8349\n",
      "Iteration 6860 : Loss 3000.4812\n",
      "Iteration 6870 : Loss 3000.1289\n",
      "Iteration 6880 : Loss 2999.7778\n",
      "Iteration 6890 : Loss 2999.4279\n",
      "Iteration 6900 : Loss 2999.0793\n",
      "Iteration 6910 : Loss 2998.7318\n",
      "Iteration 6920 : Loss 2998.3857\n",
      "Iteration 6930 : Loss 2998.0407\n",
      "Iteration 6940 : Loss 2997.6970\n",
      "Iteration 6950 : Loss 2997.3544\n",
      "Iteration 6960 : Loss 2997.0131\n",
      "Iteration 6970 : Loss 2996.6730\n",
      "Iteration 6980 : Loss 2996.3341\n",
      "Iteration 6990 : Loss 2995.9963\n",
      "Iteration 7000 : Loss 2995.6598\n",
      "Iteration 7010 : Loss 2995.3244\n",
      "Iteration 7020 : Loss 2994.9903\n",
      "Iteration 7030 : Loss 2994.6573\n",
      "Iteration 7040 : Loss 2994.3254\n",
      "Iteration 7050 : Loss 2993.9948\n",
      "Iteration 7060 : Loss 2993.6653\n",
      "Iteration 7070 : Loss 2993.3369\n",
      "Iteration 7080 : Loss 2993.0097\n",
      "Iteration 7090 : Loss 2992.6837\n",
      "Iteration 7100 : Loss 2992.3588\n",
      "Iteration 7110 : Loss 2992.0350\n",
      "Iteration 7120 : Loss 2991.7124\n",
      "Iteration 7130 : Loss 2991.3909\n",
      "Iteration 7140 : Loss 2991.0705\n",
      "Iteration 7150 : Loss 2990.7513\n",
      "Iteration 7160 : Loss 2990.4332\n",
      "Iteration 7170 : Loss 2990.1161\n",
      "Iteration 7180 : Loss 2989.8002\n",
      "Iteration 7190 : Loss 2989.4854\n",
      "Iteration 7200 : Loss 2989.1717\n",
      "Iteration 7210 : Loss 2988.8591\n",
      "Iteration 7220 : Loss 2988.5476\n",
      "Iteration 7230 : Loss 2988.2372\n",
      "Iteration 7240 : Loss 2987.9279\n",
      "Iteration 7250 : Loss 2987.6196\n",
      "Iteration 7260 : Loss 2987.3124\n",
      "Iteration 7270 : Loss 2987.0063\n",
      "Iteration 7280 : Loss 2986.7013\n",
      "Iteration 7290 : Loss 2986.3973\n",
      "Iteration 7300 : Loss 2986.0944\n",
      "Iteration 7310 : Loss 2985.7925\n",
      "Iteration 7320 : Loss 2985.4917\n",
      "Iteration 7330 : Loss 2985.1920\n",
      "Iteration 7340 : Loss 2984.8933\n",
      "Iteration 7350 : Loss 2984.5956\n",
      "Iteration 7360 : Loss 2984.2989\n",
      "Iteration 7370 : Loss 2984.0033\n",
      "Iteration 7380 : Loss 2983.7088\n",
      "Iteration 7390 : Loss 2983.4152\n",
      "Iteration 7400 : Loss 2983.1227\n",
      "Iteration 7410 : Loss 2982.8311\n",
      "Iteration 7420 : Loss 2982.5406\n",
      "Iteration 7430 : Loss 2982.2511\n",
      "Iteration 7440 : Loss 2981.9627\n",
      "Iteration 7450 : Loss 2981.6752\n",
      "Iteration 7460 : Loss 2981.3887\n",
      "Iteration 7470 : Loss 2981.1032\n",
      "Iteration 7480 : Loss 2980.8187\n",
      "Iteration 7490 : Loss 2980.5352\n",
      "Iteration 7500 : Loss 2980.2526\n",
      "Iteration 7510 : Loss 2979.9711\n",
      "Iteration 7520 : Loss 2979.6905\n",
      "Iteration 7530 : Loss 2979.4109\n",
      "Iteration 7540 : Loss 2979.1322\n",
      "Iteration 7550 : Loss 2978.8546\n",
      "Iteration 7560 : Loss 2978.5779\n",
      "Iteration 7570 : Loss 2978.3021\n",
      "Iteration 7580 : Loss 2978.0273\n",
      "Iteration 7590 : Loss 2977.7534\n",
      "Iteration 7600 : Loss 2977.4805\n",
      "Iteration 7610 : Loss 2977.2086\n",
      "Iteration 7620 : Loss 2976.9376\n",
      "Iteration 7630 : Loss 2976.6675\n",
      "Iteration 7640 : Loss 2976.3983\n",
      "Iteration 7650 : Loss 2976.1301\n",
      "Iteration 7660 : Loss 2975.8628\n",
      "Iteration 7670 : Loss 2975.5964\n",
      "Iteration 7680 : Loss 2975.3310\n",
      "Iteration 7690 : Loss 2975.0664\n",
      "Iteration 7700 : Loss 2974.8028\n",
      "Iteration 7710 : Loss 2974.5401\n",
      "Iteration 7720 : Loss 2974.2783\n",
      "Iteration 7730 : Loss 2974.0174\n",
      "Iteration 7740 : Loss 2973.7574\n",
      "Iteration 7750 : Loss 2973.4983\n",
      "Iteration 7760 : Loss 2973.2400\n",
      "Iteration 7770 : Loss 2972.9827\n",
      "Iteration 7780 : Loss 2972.7263\n",
      "Iteration 7790 : Loss 2972.4707\n",
      "Iteration 7800 : Loss 2972.2160\n",
      "Iteration 7810 : Loss 2971.9622\n",
      "Iteration 7820 : Loss 2971.7093\n",
      "Iteration 7830 : Loss 2971.4572\n",
      "Iteration 7840 : Loss 2971.2060\n",
      "Iteration 7850 : Loss 2970.9557\n",
      "Iteration 7860 : Loss 2970.7062\n",
      "Iteration 7870 : Loss 2970.4576\n",
      "Iteration 7880 : Loss 2970.2098\n",
      "Iteration 7890 : Loss 2969.9629\n",
      "Iteration 7900 : Loss 2969.7169\n",
      "Iteration 7910 : Loss 2969.4716\n",
      "Iteration 7920 : Loss 2969.2273\n",
      "Iteration 7930 : Loss 2968.9837\n",
      "Iteration 7940 : Loss 2968.7410\n",
      "Iteration 7950 : Loss 2968.4991\n",
      "Iteration 7960 : Loss 2968.2581\n",
      "Iteration 7970 : Loss 2968.0179\n",
      "Iteration 7980 : Loss 2967.7785\n",
      "Iteration 7990 : Loss 2967.5399\n",
      "Iteration 8000 : Loss 2967.3022\n",
      "Iteration 8010 : Loss 2967.0652\n",
      "Iteration 8020 : Loss 2966.8291\n",
      "Iteration 8030 : Loss 2966.5938\n",
      "Iteration 8040 : Loss 2966.3592\n",
      "Iteration 8050 : Loss 2966.1255\n",
      "Iteration 8060 : Loss 2965.8926\n",
      "Iteration 8070 : Loss 2965.6605\n",
      "Iteration 8080 : Loss 2965.4292\n",
      "Iteration 8090 : Loss 2965.1986\n",
      "Iteration 8100 : Loss 2964.9689\n",
      "Iteration 8110 : Loss 2964.7399\n",
      "Iteration 8120 : Loss 2964.5117\n",
      "Iteration 8130 : Loss 2964.2843\n",
      "Iteration 8140 : Loss 2964.0577\n",
      "Iteration 8150 : Loss 2963.8319\n",
      "Iteration 8160 : Loss 2963.6068\n",
      "Iteration 8170 : Loss 2963.3825\n",
      "Iteration 8180 : Loss 2963.1589\n",
      "Iteration 8190 : Loss 2962.9361\n",
      "Iteration 8200 : Loss 2962.7141\n",
      "Iteration 8210 : Loss 2962.4929\n",
      "Iteration 8220 : Loss 2962.2723\n",
      "Iteration 8230 : Loss 2962.0526\n",
      "Iteration 8240 : Loss 2961.8336\n",
      "Iteration 8250 : Loss 2961.6153\n",
      "Iteration 8260 : Loss 2961.3978\n",
      "Iteration 8270 : Loss 2961.1810\n",
      "Iteration 8280 : Loss 2960.9650\n",
      "Iteration 8290 : Loss 2960.7497\n",
      "Iteration 8300 : Loss 2960.5351\n",
      "Iteration 8310 : Loss 2960.3212\n",
      "Iteration 8320 : Loss 2960.1081\n",
      "Iteration 8330 : Loss 2959.8957\n",
      "Iteration 8340 : Loss 2959.6840\n",
      "Iteration 8350 : Loss 2959.4731\n",
      "Iteration 8360 : Loss 2959.2629\n",
      "Iteration 8370 : Loss 2959.0533\n",
      "Iteration 8380 : Loss 2958.8445\n",
      "Iteration 8390 : Loss 2958.6364\n",
      "Iteration 8400 : Loss 2958.4290\n",
      "Iteration 8410 : Loss 2958.2224\n",
      "Iteration 8420 : Loss 2958.0164\n",
      "Iteration 8430 : Loss 2957.8111\n",
      "Iteration 8440 : Loss 2957.6065\n",
      "Iteration 8450 : Loss 2957.4026\n",
      "Iteration 8460 : Loss 2957.1994\n",
      "Iteration 8470 : Loss 2956.9969\n",
      "Iteration 8480 : Loss 2956.7950\n",
      "Iteration 8490 : Loss 2956.5939\n",
      "Iteration 8500 : Loss 2956.3934\n",
      "Iteration 8510 : Loss 2956.1937\n",
      "Iteration 8520 : Loss 2955.9946\n",
      "Iteration 8530 : Loss 2955.7961\n",
      "Iteration 8540 : Loss 2955.5984\n",
      "Iteration 8550 : Loss 2955.4013\n",
      "Iteration 8560 : Loss 2955.2048\n",
      "Iteration 8570 : Loss 2955.0091\n",
      "Iteration 8580 : Loss 2954.8140\n",
      "Iteration 8590 : Loss 2954.6196\n",
      "Iteration 8600 : Loss 2954.4258\n",
      "Iteration 8610 : Loss 2954.2327\n",
      "Iteration 8620 : Loss 2954.0402\n",
      "Iteration 8630 : Loss 2953.8484\n",
      "Iteration 8640 : Loss 2953.6572\n",
      "Iteration 8650 : Loss 2953.4667\n",
      "Iteration 8660 : Loss 2953.2768\n",
      "Iteration 8670 : Loss 2953.0876\n",
      "Iteration 8680 : Loss 2952.8990\n",
      "Iteration 8690 : Loss 2952.7110\n",
      "Iteration 8700 : Loss 2952.5237\n",
      "Iteration 8710 : Loss 2952.3370\n",
      "Iteration 8720 : Loss 2952.1509\n",
      "Iteration 8730 : Loss 2951.9655\n",
      "Iteration 8740 : Loss 2951.7807\n",
      "Iteration 8750 : Loss 2951.5965\n",
      "Iteration 8760 : Loss 2951.4129\n",
      "Iteration 8770 : Loss 2951.2300\n",
      "Iteration 8780 : Loss 2951.0476\n",
      "Iteration 8790 : Loss 2950.8659\n",
      "Iteration 8800 : Loss 2950.6848\n",
      "Iteration 8810 : Loss 2950.5043\n",
      "Iteration 8820 : Loss 2950.3244\n",
      "Iteration 8830 : Loss 2950.1452\n",
      "Iteration 8840 : Loss 2949.9665\n",
      "Iteration 8850 : Loss 2949.7884\n",
      "Iteration 8860 : Loss 2949.6109\n",
      "Iteration 8870 : Loss 2949.4341\n",
      "Iteration 8880 : Loss 2949.2578\n",
      "Iteration 8890 : Loss 2949.0821\n",
      "Iteration 8900 : Loss 2948.9070\n",
      "Iteration 8910 : Loss 2948.7325\n",
      "Iteration 8920 : Loss 2948.5586\n",
      "Iteration 8930 : Loss 2948.3852\n",
      "Iteration 8940 : Loss 2948.2125\n",
      "Iteration 8950 : Loss 2948.0403\n",
      "Iteration 8960 : Loss 2947.8687\n",
      "Iteration 8970 : Loss 2947.6977\n",
      "Iteration 8980 : Loss 2947.5272\n",
      "Iteration 8990 : Loss 2947.3574\n",
      "Iteration 9000 : Loss 2947.1881\n",
      "Iteration 9010 : Loss 2947.0193\n",
      "Iteration 9020 : Loss 2946.8512\n",
      "Iteration 9030 : Loss 2946.6836\n",
      "Iteration 9040 : Loss 2946.5165\n",
      "Iteration 9050 : Loss 2946.3500\n",
      "Iteration 9060 : Loss 2946.1841\n",
      "Iteration 9070 : Loss 2946.0188\n",
      "Iteration 9080 : Loss 2945.8539\n",
      "Iteration 9090 : Loss 2945.6897\n",
      "Iteration 9100 : Loss 2945.5260\n",
      "Iteration 9110 : Loss 2945.3628\n",
      "Iteration 9120 : Loss 2945.2002\n",
      "Iteration 9130 : Loss 2945.0381\n",
      "Iteration 9140 : Loss 2944.8766\n",
      "Iteration 9150 : Loss 2944.7156\n",
      "Iteration 9160 : Loss 2944.5552\n",
      "Iteration 9170 : Loss 2944.3953\n",
      "Iteration 9180 : Loss 2944.2359\n",
      "Iteration 9190 : Loss 2944.0771\n",
      "Iteration 9200 : Loss 2943.9188\n",
      "Iteration 9210 : Loss 2943.7610\n",
      "Iteration 9220 : Loss 2943.6038\n",
      "Iteration 9230 : Loss 2943.4470\n",
      "Iteration 9240 : Loss 2943.2908\n",
      "Iteration 9250 : Loss 2943.1352\n",
      "Iteration 9260 : Loss 2942.9800\n",
      "Iteration 9270 : Loss 2942.8254\n",
      "Iteration 9280 : Loss 2942.6712\n",
      "Iteration 9290 : Loss 2942.5176\n",
      "Iteration 9300 : Loss 2942.3645\n",
      "Iteration 9310 : Loss 2942.2120\n",
      "Iteration 9320 : Loss 2942.0599\n",
      "Iteration 9330 : Loss 2941.9083\n",
      "Iteration 9340 : Loss 2941.7573\n",
      "Iteration 9350 : Loss 2941.6067\n",
      "Iteration 9360 : Loss 2941.4567\n",
      "Iteration 9370 : Loss 2941.3071\n",
      "Iteration 9380 : Loss 2941.1581\n",
      "Iteration 9390 : Loss 2941.0095\n",
      "Iteration 9400 : Loss 2940.8614\n",
      "Iteration 9410 : Loss 2940.7139\n",
      "Iteration 9420 : Loss 2940.5668\n",
      "Iteration 9430 : Loss 2940.4202\n",
      "Iteration 9440 : Loss 2940.2741\n",
      "Iteration 9450 : Loss 2940.1285\n",
      "Iteration 9460 : Loss 2939.9834\n",
      "Iteration 9470 : Loss 2939.8388\n",
      "Iteration 9480 : Loss 2939.6946\n",
      "Iteration 9490 : Loss 2939.5509\n",
      "Iteration 9500 : Loss 2939.4077\n",
      "Iteration 9510 : Loss 2939.2650\n",
      "Iteration 9520 : Loss 2939.1227\n",
      "Iteration 9530 : Loss 2938.9810\n",
      "Iteration 9540 : Loss 2938.8397\n",
      "Iteration 9550 : Loss 2938.6988\n",
      "Iteration 9560 : Loss 2938.5585\n",
      "Iteration 9570 : Loss 2938.4186\n",
      "Iteration 9580 : Loss 2938.2791\n",
      "Iteration 9590 : Loss 2938.1402\n",
      "Iteration 9600 : Loss 2938.0017\n",
      "Iteration 9610 : Loss 2937.8636\n",
      "Iteration 9620 : Loss 2937.7260\n",
      "Iteration 9630 : Loss 2937.5889\n",
      "Iteration 9640 : Loss 2937.4522\n",
      "Iteration 9650 : Loss 2937.3160\n",
      "Iteration 9660 : Loss 2937.1802\n",
      "Iteration 9670 : Loss 2937.0449\n",
      "Iteration 9680 : Loss 2936.9100\n",
      "Iteration 9690 : Loss 2936.7756\n",
      "Iteration 9700 : Loss 2936.6416\n",
      "Iteration 9710 : Loss 2936.5081\n",
      "Iteration 9720 : Loss 2936.3750\n",
      "Iteration 9730 : Loss 2936.2424\n",
      "Iteration 9740 : Loss 2936.1101\n",
      "Iteration 9750 : Loss 2935.9784\n",
      "Iteration 9760 : Loss 2935.8470\n",
      "Iteration 9770 : Loss 2935.7161\n",
      "Iteration 9780 : Loss 2935.5857\n",
      "Iteration 9790 : Loss 2935.4556\n",
      "Iteration 9800 : Loss 2935.3260\n",
      "Iteration 9810 : Loss 2935.1969\n",
      "Iteration 9820 : Loss 2935.0681\n",
      "Iteration 9830 : Loss 2934.9398\n",
      "Iteration 9840 : Loss 2934.8119\n",
      "Iteration 9850 : Loss 2934.6844\n",
      "Iteration 9860 : Loss 2934.5574\n",
      "Iteration 9870 : Loss 2934.4308\n",
      "Iteration 9880 : Loss 2934.3046\n",
      "Iteration 9890 : Loss 2934.1788\n",
      "Iteration 9900 : Loss 2934.0534\n",
      "Iteration 9910 : Loss 2933.9284\n",
      "Iteration 9920 : Loss 2933.8039\n",
      "Iteration 9930 : Loss 2933.6798\n",
      "Iteration 9940 : Loss 2933.5560\n",
      "Iteration 9950 : Loss 2933.4327\n",
      "Iteration 9960 : Loss 2933.3098\n",
      "Iteration 9970 : Loss 2933.1873\n",
      "Iteration 9980 : Loss 2933.0652\n",
      "Iteration 9990 : Loss 2932.9435\n",
      "Iteration 10000 : Loss 2932.8222\n"
     ]
    }
   ],
   "source": [
    "losses = []\n",
    "\n",
    "for i in range(1, 10001):\n",
    "    dW, db = gradient(X_train, W, b, y_train)\n",
    "    W -= LEARNING_RATE * dW\n",
    "    b -= LEARNING_RATE * db\n",
    "    L = loss(X, W, b, y)\n",
    "    losses.append(L)\n",
    "    if i % 10 == 0:\n",
    "        print('Iteration %d : Loss %0.4f' % (i, L))"
   ]
  },
  {
   "cell_type": "code",
   "execution_count": 15,
   "metadata": {},
   "outputs": [
    {
     "data": {
      "image/png": "[encoded data removed]",
      "text/plain": [
       "<Figure size 432x288 with 1 Axes>"
      ]
     },
     "metadata": {
      "needs_background": "light"
     },
     "output_type": "display_data"
    }
   ],
   "source": [
    "plt.plot(losses)\n",
    "plt.show()"
   ]
  },
  {
   "cell_type": "markdown",
   "metadata": {},
   "source": [
    "# 10. test 데이터에 대한 성능 확인하기\n",
    "test 데이터에 대한 성능을 확인해주세요."
   ]
  },
  {
   "cell_type": "code",
   "execution_count": 16,
   "metadata": {},
   "outputs": [
    {
     "data": {
      "text/plain": [
       "2867.0806793527777"
      ]
     },
     "execution_count": 16,
     "metadata": {},
     "output_type": "execute_result"
    }
   ],
   "source": [
    "prediction = model(X_test, W, b)\n",
    "mse = loss(X_test, W, b, y_test)\n",
    "mse"
   ]
  },
  {
   "cell_type": "markdown",
   "metadata": {},
   "source": [
    "# 11. 정답 데이터와 예측한 데이터 시각화하기\n",
    "x축에는 X 데이터의 첫 번째 컬럼을, y축에는 정답인 target 데이터를 넣어서 모델이 예측한 데이터를 시각화해 주세요."
   ]
  },
  {
   "cell_type": "code",
   "execution_count": 17,
   "metadata": {},
   "outputs": [
    {
     "data": {
      "image/png": "[encoded data removed]",
      "text/plain": [
       "<Figure size 432x288 with 1 Axes>"
      ]
     },
     "metadata": {
      "needs_background": "light"
     },
     "output_type": "display_data"
    }
   ],
   "source": [
    "plt.scatter(X_test[:, 0], y_test)\n",
    "plt.scatter(X_test[:, 0], prediction)\n",
    "plt.show()"
   ]
  },
  {
   "cell_type": "markdown",
   "metadata": {},
   "source": [
    "### -------------------------------------------------------------------------------------------"
   ]
  },
  {
   "cell_type": "markdown",
   "metadata": {},
   "source": [
    "# Project2 : bike"
   ]
  },
  {
   "cell_type": "markdown",
   "metadata": {},
   "source": [
    "(1) 데이터 가져오기\n",
    "여기에서 데이터를 다운받습니다.\n",
    "다운받은 파일의 압축을 해제하고 bike-sharing-demand/train.csv 데이터를 train 변수로 가져옵니다.\n",
    "(2) datetime 컬럼을 datetime 자료형으로 변환하고 연, 월, 일, 시, 분, 초까지 6가지 컬럼 생성하기\n",
    "to_datetime 활용 : 링크 참조\n",
    "pandas datetime extract year month day 키워드로 검색해 보기\n",
    "(3) year, month, day, hour, minute, second 데이터 개수 시각화하기\n",
    "sns.countplot 활용해서 시각화하기\n",
    "subplot을 활용해서 한 번에 6개의 그래프 함께 시각화하기\n",
    "(4) X, y 컬럼 선택 및 train/test 데이터 분리\n",
    "X에는 문자열 데이터, 쓸모없는 데이터를 제외한 컬럼의 데이터 넣기\n",
    "count 값을 맞추고자 하므로, y 변수에 count 컬럼의 데이터 넣기\n",
    "(5) LinearRegression 모델 학습\n",
    "sklearn의 LinearRegression 모델 불러오기 및 학습하기\n",
    "(6) 학습된 모델로 X_test에 대한 예측값 출력 및 손실함수값 계산\n",
    "학습된 모델에 X_test를 입력해서 예측값 출력하기\n",
    "모델이 예측한 값과 정답 target 간의 손실함수 값 계산하기\n",
    "mse 값과 함께 rmse 값도 계산하기\n",
    "(7) x축은 temp 또는 humidity로, y축은 count로 예측 결과 시각화하기\n",
    "x축에 X 데이터 중 temp 데이터를, y축에는 count 데이터를 넣어서 시각화하기\n",
    "x축에 X 데이터 중 humidity 데이터를, y축에는 count 데이터를 넣어서 시각화하기"
   ]
  },
  {
   "cell_type": "markdown",
   "metadata": {},
   "source": [
    "# 1. 데이터 가져오기 "
   ]
  },
  {
   "cell_type": "code",
   "execution_count": 19,
   "metadata": {},
   "outputs": [
    {
     "name": "stdout",
     "output_type": "stream",
     "text": [
      "(10886, 12)\n"
     ]
    },
    {
     "data": {
      "text/html": [
       "<div>\n",
       "<style scoped>\n",
       "    .dataframe tbody tr th:only-of-type {\n",
       "        vertical-align: middle;\n",
       "    }\n",
       "\n",
       "    .dataframe tbody tr th {\n",
       "        vertical-align: top;\n",
       "    }\n",
       "\n",
       "    .dataframe thead th {\n",
       "        text-align: right;\n",
       "    }\n",
       "</style>\n",
       "<table border=\"1\" class=\"dataframe\">\n",
       "  <thead>\n",
       "    <tr style=\"text-align: right;\">\n",
       "      <th></th>\n",
       "      <th>datetime</th>\n",
       "      <th>season</th>\n",
       "      <th>holiday</th>\n",
       "      <th>workingday</th>\n",
       "      <th>weather</th>\n",
       "      <th>temp</th>\n",
       "      <th>atemp</th>\n",
       "      <th>humidity</th>\n",
       "      <th>windspeed</th>\n",
       "      <th>casual</th>\n",
       "      <th>registered</th>\n",
       "      <th>count</th>\n",
       "    </tr>\n",
       "  </thead>\n",
       "  <tbody>\n",
       "    <tr>\n",
       "      <th>0</th>\n",
       "      <td>2011-01-01 00:00:00</td>\n",
       "      <td>1</td>\n",
       "      <td>0</td>\n",
       "      <td>0</td>\n",
       "      <td>1</td>\n",
       "      <td>9.84</td>\n",
       "      <td>14.395</td>\n",
       "      <td>81</td>\n",
       "      <td>0.0</td>\n",
       "      <td>3</td>\n",
       "      <td>13</td>\n",
       "      <td>16</td>\n",
       "    </tr>\n",
       "    <tr>\n",
       "      <th>1</th>\n",
       "      <td>2011-01-01 01:00:00</td>\n",
       "      <td>1</td>\n",
       "      <td>0</td>\n",
       "      <td>0</td>\n",
       "      <td>1</td>\n",
       "      <td>9.02</td>\n",
       "      <td>13.635</td>\n",
       "      <td>80</td>\n",
       "      <td>0.0</td>\n",
       "      <td>8</td>\n",
       "      <td>32</td>\n",
       "      <td>40</td>\n",
       "    </tr>\n",
       "    <tr>\n",
       "      <th>2</th>\n",
       "      <td>2011-01-01 02:00:00</td>\n",
       "      <td>1</td>\n",
       "      <td>0</td>\n",
       "      <td>0</td>\n",
       "      <td>1</td>\n",
       "      <td>9.02</td>\n",
       "      <td>13.635</td>\n",
       "      <td>80</td>\n",
       "      <td>0.0</td>\n",
       "      <td>5</td>\n",
       "      <td>27</td>\n",
       "      <td>32</td>\n",
       "    </tr>\n",
       "    <tr>\n",
       "      <th>3</th>\n",
       "      <td>2011-01-01 03:00:00</td>\n",
       "      <td>1</td>\n",
       "      <td>0</td>\n",
       "      <td>0</td>\n",
       "      <td>1</td>\n",
       "      <td>9.84</td>\n",
       "      <td>14.395</td>\n",
       "      <td>75</td>\n",
       "      <td>0.0</td>\n",
       "      <td>3</td>\n",
       "      <td>10</td>\n",
       "      <td>13</td>\n",
       "    </tr>\n",
       "    <tr>\n",
       "      <th>4</th>\n",
       "      <td>2011-01-01 04:00:00</td>\n",
       "      <td>1</td>\n",
       "      <td>0</td>\n",
       "      <td>0</td>\n",
       "      <td>1</td>\n",
       "      <td>9.84</td>\n",
       "      <td>14.395</td>\n",
       "      <td>75</td>\n",
       "      <td>0.0</td>\n",
       "      <td>0</td>\n",
       "      <td>1</td>\n",
       "      <td>1</td>\n",
       "    </tr>\n",
       "  </tbody>\n",
       "</table>\n",
       "</div>"
      ],
      "text/plain": [
       "              datetime  season  holiday  workingday  weather  temp   atemp  \\\n",
       "0  2011-01-01 00:00:00       1        0           0        1  9.84  14.395   \n",
       "1  2011-01-01 01:00:00       1        0           0        1  9.02  13.635   \n",
       "2  2011-01-01 02:00:00       1        0           0        1  9.02  13.635   \n",
       "3  2011-01-01 03:00:00       1        0           0        1  9.84  14.395   \n",
       "4  2011-01-01 04:00:00       1        0           0        1  9.84  14.395   \n",
       "\n",
       "   humidity  windspeed  casual  registered  count  \n",
       "0        81        0.0       3          13     16  \n",
       "1        80        0.0       8          32     40  \n",
       "2        80        0.0       5          27     32  \n",
       "3        75        0.0       3          10     13  \n",
       "4        75        0.0       0           1      1  "
      ]
     },
     "execution_count": 19,
     "metadata": {},
     "output_type": "execute_result"
    }
   ],
   "source": [
    "import pandas as pd\n",
    "\n",
    "train = pd.read_csv('~/aiffel/bike-sharing-demand/train.csv')\n",
    "print(train.shape)\n",
    "train.head()"
   ]
  },
  {
   "cell_type": "markdown",
   "metadata": {},
   "source": [
    "# 2. datetime 컬럼을 datetime 자료형으로 변환하고 연, 월, 일, 시, 분, 초까지 6가지 컬럼 생성하기   \n",
    "to_datetime 활용 : 링크 참조   \n",
    "pandas datetime extract year month day 키워드로 검색해 보기   "
   ]
  },
  {
   "cell_type": "code",
   "execution_count": 20,
   "metadata": {},
   "outputs": [
    {
     "data": {
      "text/html": [
       "<div>\n",
       "<style scoped>\n",
       "    .dataframe tbody tr th:only-of-type {\n",
       "        vertical-align: middle;\n",
       "    }\n",
       "\n",
       "    .dataframe tbody tr th {\n",
       "        vertical-align: top;\n",
       "    }\n",
       "\n",
       "    .dataframe thead th {\n",
       "        text-align: right;\n",
       "    }\n",
       "</style>\n",
       "<table border=\"1\" class=\"dataframe\">\n",
       "  <thead>\n",
       "    <tr style=\"text-align: right;\">\n",
       "      <th></th>\n",
       "      <th>datetime</th>\n",
       "      <th>season</th>\n",
       "      <th>holiday</th>\n",
       "      <th>workingday</th>\n",
       "      <th>weather</th>\n",
       "      <th>temp</th>\n",
       "      <th>atemp</th>\n",
       "      <th>humidity</th>\n",
       "      <th>windspeed</th>\n",
       "      <th>casual</th>\n",
       "      <th>registered</th>\n",
       "      <th>count</th>\n",
       "      <th>year</th>\n",
       "      <th>month</th>\n",
       "      <th>day</th>\n",
       "      <th>hour</th>\n",
       "      <th>minute</th>\n",
       "      <th>second</th>\n",
       "    </tr>\n",
       "  </thead>\n",
       "  <tbody>\n",
       "    <tr>\n",
       "      <th>0</th>\n",
       "      <td>2011-01-01 00:00:00</td>\n",
       "      <td>1</td>\n",
       "      <td>0</td>\n",
       "      <td>0</td>\n",
       "      <td>1</td>\n",
       "      <td>9.84</td>\n",
       "      <td>14.395</td>\n",
       "      <td>81</td>\n",
       "      <td>0.0</td>\n",
       "      <td>3</td>\n",
       "      <td>13</td>\n",
       "      <td>16</td>\n",
       "      <td>2011</td>\n",
       "      <td>1</td>\n",
       "      <td>1</td>\n",
       "      <td>0</td>\n",
       "      <td>0</td>\n",
       "      <td>0</td>\n",
       "    </tr>\n",
       "    <tr>\n",
       "      <th>1</th>\n",
       "      <td>2011-01-01 01:00:00</td>\n",
       "      <td>1</td>\n",
       "      <td>0</td>\n",
       "      <td>0</td>\n",
       "      <td>1</td>\n",
       "      <td>9.02</td>\n",
       "      <td>13.635</td>\n",
       "      <td>80</td>\n",
       "      <td>0.0</td>\n",
       "      <td>8</td>\n",
       "      <td>32</td>\n",
       "      <td>40</td>\n",
       "      <td>2011</td>\n",
       "      <td>1</td>\n",
       "      <td>1</td>\n",
       "      <td>1</td>\n",
       "      <td>0</td>\n",
       "      <td>0</td>\n",
       "    </tr>\n",
       "    <tr>\n",
       "      <th>2</th>\n",
       "      <td>2011-01-01 02:00:00</td>\n",
       "      <td>1</td>\n",
       "      <td>0</td>\n",
       "      <td>0</td>\n",
       "      <td>1</td>\n",
       "      <td>9.02</td>\n",
       "      <td>13.635</td>\n",
       "      <td>80</td>\n",
       "      <td>0.0</td>\n",
       "      <td>5</td>\n",
       "      <td>27</td>\n",
       "      <td>32</td>\n",
       "      <td>2011</td>\n",
       "      <td>1</td>\n",
       "      <td>1</td>\n",
       "      <td>2</td>\n",
       "      <td>0</td>\n",
       "      <td>0</td>\n",
       "    </tr>\n",
       "    <tr>\n",
       "      <th>3</th>\n",
       "      <td>2011-01-01 03:00:00</td>\n",
       "      <td>1</td>\n",
       "      <td>0</td>\n",
       "      <td>0</td>\n",
       "      <td>1</td>\n",
       "      <td>9.84</td>\n",
       "      <td>14.395</td>\n",
       "      <td>75</td>\n",
       "      <td>0.0</td>\n",
       "      <td>3</td>\n",
       "      <td>10</td>\n",
       "      <td>13</td>\n",
       "      <td>2011</td>\n",
       "      <td>1</td>\n",
       "      <td>1</td>\n",
       "      <td>3</td>\n",
       "      <td>0</td>\n",
       "      <td>0</td>\n",
       "    </tr>\n",
       "    <tr>\n",
       "      <th>4</th>\n",
       "      <td>2011-01-01 04:00:00</td>\n",
       "      <td>1</td>\n",
       "      <td>0</td>\n",
       "      <td>0</td>\n",
       "      <td>1</td>\n",
       "      <td>9.84</td>\n",
       "      <td>14.395</td>\n",
       "      <td>75</td>\n",
       "      <td>0.0</td>\n",
       "      <td>0</td>\n",
       "      <td>1</td>\n",
       "      <td>1</td>\n",
       "      <td>2011</td>\n",
       "      <td>1</td>\n",
       "      <td>1</td>\n",
       "      <td>4</td>\n",
       "      <td>0</td>\n",
       "      <td>0</td>\n",
       "    </tr>\n",
       "  </tbody>\n",
       "</table>\n",
       "</div>"
      ],
      "text/plain": [
       "             datetime  season  holiday  workingday  weather  temp   atemp  \\\n",
       "0 2011-01-01 00:00:00       1        0           0        1  9.84  14.395   \n",
       "1 2011-01-01 01:00:00       1        0           0        1  9.02  13.635   \n",
       "2 2011-01-01 02:00:00       1        0           0        1  9.02  13.635   \n",
       "3 2011-01-01 03:00:00       1        0           0        1  9.84  14.395   \n",
       "4 2011-01-01 04:00:00       1        0           0        1  9.84  14.395   \n",
       "\n",
       "   humidity  windspeed  casual  registered  count  year  month  day  hour  \\\n",
       "0        81        0.0       3          13     16  2011      1    1     0   \n",
       "1        80        0.0       8          32     40  2011      1    1     1   \n",
       "2        80        0.0       5          27     32  2011      1    1     2   \n",
       "3        75        0.0       3          10     13  2011      1    1     3   \n",
       "4        75        0.0       0           1      1  2011      1    1     4   \n",
       "\n",
       "   minute  second  \n",
       "0       0       0  \n",
       "1       0       0  \n",
       "2       0       0  \n",
       "3       0       0  \n",
       "4       0       0  "
      ]
     },
     "execution_count": 20,
     "metadata": {},
     "output_type": "execute_result"
    }
   ],
   "source": [
    "import datetime\n",
    "\n",
    "train['datetime']= pd.to_datetime(train['datetime'])\n",
    "\n",
    "#https://www.interviewqs.com/ddi_code_snippets/extract_month_year_pandas\n",
    "\n",
    "train['year' ] = pd.DatetimeIndex(train['datetime']).year\n",
    "train['month' ] = pd.DatetimeIndex(train['datetime']).month\n",
    "train['day' ] = pd.DatetimeIndex(train['datetime']).day\n",
    "train['hour' ] = pd.DatetimeIndex(train['datetime']).hour\n",
    "train['minute' ] = pd.DatetimeIndex(train['datetime']).minute\n",
    "train['second' ] = pd.DatetimeIndex(train['datetime']).second\n",
    "train.head()"
   ]
  },
  {
   "cell_type": "markdown",
   "metadata": {},
   "source": [
    "# 3. year, month, day, hour, minute, second 데이터 개수 시각화하기   \n",
    "sns.countplot 활용해서 시각화하기   \n",
    "subplot을 활용해서 한 번에 6개의 그래프 함께 시각화하기"
   ]
  },
  {
   "cell_type": "code",
   "execution_count": 21,
   "metadata": {},
   "outputs": [
    {
     "data": {
      "image/png": "[encoded data removed]",
      "text/plain": [
       "<Figure size 1296x576 with 6 Axes>"
      ]
     },
     "metadata": {
      "needs_background": "light"
     },
     "output_type": "display_data"
    }
   ],
   "source": [
    "import seaborn as sns\n",
    "import matplotlib.pyplot as plt\n",
    "\n",
    "figure, ((ax1,ax2,ax3), (ax4,ax5,ax6)) = plt.subplots(nrows=2, ncols=3)\n",
    "figure.set_size_inches(18,8)\n",
    "\n",
    "\n",
    "sns.countplot(x='year', data = train, ax=ax1)\n",
    "sns.countplot(x='month', data = train,  ax=ax2)\n",
    "sns.countplot(x='day', data = train,   ax=ax3)\n",
    "sns.countplot(x='hour', data = train ,  ax=ax4)\n",
    "sns.countplot(x='minute', data = train, ax=ax5)\n",
    "sns.countplot(x='second', data = train, ax=ax6)\n",
    "\n",
    "ax1.set(ylabel='Count',title=\"year\")\n",
    "ax2.set(xlabel='month',title=\"month\")\n",
    "ax3.set(xlabel='day', title=\"day\")\n",
    "ax4.set(xlabel='hour', title=\"hour\")\n",
    "plt.show() "
   ]
  },
  {
   "cell_type": "markdown",
   "metadata": {},
   "source": [
    "# 4. X, y 컬럼 선택 및 train/test 데이터 분리   \n",
    "X에는 문자열 데이터, 쓸모없는 데이터를 제외한 컬럼의 데이터 넣기   \n",
    "count 값을 맞추고자 하므로, y 변수에 count 컬럼의 데이터 넣기"
   ]
  },
  {
   "cell_type": "code",
   "execution_count": 64,
   "metadata": {},
   "outputs": [],
   "source": [
    "# holiday\tworkingday\tweather\ttemp\tatemp\thumidity\twindspeed\tcasual\tregistered\tcount\tyear\tmonth\tday\thour\tminute\tsecond\n",
    "\n",
    "X = train[['season', 'holiday', 'workingday', 'weather', 'temp', 'atemp', 'casual',\n",
    "          'humidity', 'windspeed', 'registered', 'year', 'month', 'day', 'hour', 'minute' ,'second']].values\n",
    "y = train['count'].values\n"
   ]
  },
  {
   "cell_type": "markdown",
   "metadata": {},
   "source": [
    "# 5. LinearRegression 모델 학습\n",
    "sklearn의 LinearRegression 모델 불러오기 및 학습하기"
   ]
  },
  {
   "cell_type": "code",
   "execution_count": 65,
   "metadata": {},
   "outputs": [],
   "source": [
    "X_train, X_test, y_train, y_test = train_test_split(X, y, test_size=0.2, random_state=42)\n"
   ]
  },
  {
   "cell_type": "code",
   "execution_count": 66,
   "metadata": {},
   "outputs": [],
   "source": [
    "from sklearn.linear_model import LinearRegression\n",
    "\n",
    "model = LinearRegression()"
   ]
  },
  {
   "cell_type": "code",
   "execution_count": 67,
   "metadata": {},
   "outputs": [
    {
     "data": {
      "text/plain": [
       "LinearRegression()"
      ]
     },
     "execution_count": 67,
     "metadata": {},
     "output_type": "execute_result"
    }
   ],
   "source": [
    "model.fit(X_train, y_train)"
   ]
  },
  {
   "cell_type": "markdown",
   "metadata": {},
   "source": [
    "# 6. 학습된 모델로 X_test에 대한 예측값 출력 및 손실함수값 계산   \n",
    "학습된 모델에 X_test를 입력해서 예측값 출력하기   \n",
    "모델이 예측한 값과 정답 target 간의 손실함수 값 계산하기"
   ]
  },
  {
   "cell_type": "code",
   "execution_count": 68,
   "metadata": {},
   "outputs": [
    {
     "data": {
      "text/plain": [
       "array([127.,  13., 163., ..., 509.,   5., 239.])"
      ]
     },
     "execution_count": 68,
     "metadata": {},
     "output_type": "execute_result"
    }
   ],
   "source": [
    "predictions = model.predict(X_test)\n",
    "predictions"
   ]
  },
  {
   "cell_type": "code",
   "execution_count": 69,
   "metadata": {},
   "outputs": [
    {
     "data": {
      "text/plain": [
       "3.197441806131986e-13"
      ]
     },
     "execution_count": 69,
     "metadata": {},
     "output_type": "execute_result"
    }
   ],
   "source": [
    "from sklearn.metrics import mean_squared_error\n",
    "\n",
    "\n",
    "mse = mean_squared_error(y_test, predictions)\n",
    "rmse = np.sqrt(mse)\n",
    "rmse"
   ]
  },
  {
   "cell_type": "code",
   "execution_count": 70,
   "metadata": {},
   "outputs": [
    {
     "data": {
      "image/png": "[encoded data removed]",
      "text/plain": [
       "<Figure size 432x288 with 1 Axes>"
      ]
     },
     "metadata": {
      "needs_background": "light"
     },
     "output_type": "display_data"
    }
   ],
   "source": [
    "plt.scatter(X_test[:, 0], y_test, label=\"true\")\n",
    "plt.scatter(X_test[:, 0], predictions, label=\"pred\")\n",
    "plt.legend()\n",
    "plt.show()"
   ]
  },
  {
   "cell_type": "markdown",
   "metadata": {},
   "source": [
    "# 7.  x축은 temp 또는 humidity로, y축은 count로 예측 결과 시각화하기   \n",
    "x축에 X 데이터 중 temp 데이터를, y축에는 count 데이터를 넣어서 시각화하기   \n",
    "x축에 X 데이터 중 humidity 데이터를, y축에는 count 데이터를 넣어서 시각화하기"
   ]
  },
  {
   "cell_type": "code",
   "execution_count": 71,
   "metadata": {},
   "outputs": [
    {
     "data": {
      "image/png": "[encoded data removed]",
      "text/plain": [
       "<Figure size 432x288 with 1 Axes>"
      ]
     },
     "metadata": {
      "needs_background": "light"
     },
     "output_type": "display_data"
    }
   ],
   "source": [
    "plt.scatter(X_test[:, 4], y_test, label=\"true\")\n",
    "plt.scatter(X_test[:, 4], predictions, label=\"pred\")\n",
    "plt.title('temp')\n",
    "plt.legend()\n",
    "plt.show()"
   ]
  },
  {
   "cell_type": "code",
   "execution_count": 72,
   "metadata": {},
   "outputs": [
    {
     "data": {
      "image/png": "[encoded data removed]",
      "text/plain": [
       "<Figure size 432x288 with 1 Axes>"
      ]
     },
     "metadata": {
      "needs_background": "light"
     },
     "output_type": "display_data"
    }
   ],
   "source": [
    "plt.scatter(X_test[:, 6], y_test, label=\"true\")\n",
    "plt.scatter(X_test[:, 6], predictions, label=\"pred\")\n",
    "plt.title('humidity')\n",
    "plt.legend()\n",
    "plt.show()"
   ]
  },
  {
   "cell_type": "markdown",
   "metadata": {},
   "source": [
    "# 번외. 상관관계에 따른 변수 제거\n",
    "\n",
    "X = train[['season', 'holiday', 'workingday', 'weather', 'temp', 'atemp',\n",
    "          'humidity', 'windspeed', 'registered', 'year', 'month', 'day', 'hour', 'minute' ,'second', 'casual']].values   \n",
    "y = train['count'].values\n"
   ]
  },
  {
   "cell_type": "code",
   "execution_count": 33,
   "metadata": {},
   "outputs": [
    {
     "data": {
      "text/plain": [
       "array([[1.        , 0.16343902],\n",
       "       [0.16343902, 1.        ]])"
      ]
     },
     "execution_count": 33,
     "metadata": {},
     "output_type": "execute_result"
    }
   ],
   "source": [
    "np.corrcoef(train['season'], train['count'])"
   ]
  },
  {
   "cell_type": "code",
   "execution_count": 35,
   "metadata": {},
   "outputs": [
    {
     "data": {
      "text/plain": [
       "array([[ 1.        , -0.00539298],\n",
       "       [-0.00539298,  1.        ]])"
      ]
     },
     "execution_count": 35,
     "metadata": {},
     "output_type": "execute_result"
    }
   ],
   "source": [
    "np.corrcoef(train['holiday'], train['count'])"
   ]
  },
  {
   "cell_type": "code",
   "execution_count": 36,
   "metadata": {},
   "outputs": [
    {
     "data": {
      "text/plain": [
       "array([[1.        , 0.01159387],\n",
       "       [0.01159387, 1.        ]])"
      ]
     },
     "execution_count": 36,
     "metadata": {},
     "output_type": "execute_result"
    }
   ],
   "source": [
    "np.corrcoef(train['workingday'], train['count'])"
   ]
  },
  {
   "cell_type": "code",
   "execution_count": 37,
   "metadata": {},
   "outputs": [
    {
     "data": {
      "text/plain": [
       "array([[ 1.       , -0.1286552],\n",
       "       [-0.1286552,  1.       ]])"
      ]
     },
     "execution_count": 37,
     "metadata": {},
     "output_type": "execute_result"
    }
   ],
   "source": [
    "np.corrcoef(train['weather'], train['count'])"
   ]
  },
  {
   "cell_type": "code",
   "execution_count": 38,
   "metadata": {},
   "outputs": [
    {
     "data": {
      "text/plain": [
       "array([[1.        , 0.38978444],\n",
       "       [0.38978444, 1.        ]])"
      ]
     },
     "execution_count": 38,
     "metadata": {},
     "output_type": "execute_result"
    }
   ],
   "source": [
    "np.corrcoef(train['atemp'], train['count'])"
   ]
  },
  {
   "cell_type": "code",
   "execution_count": 39,
   "metadata": {},
   "outputs": [
    {
     "data": {
      "text/plain": [
       "array([[ 1.        , -0.31737148],\n",
       "       [-0.31737148,  1.        ]])"
      ]
     },
     "execution_count": 39,
     "metadata": {},
     "output_type": "execute_result"
    }
   ],
   "source": [
    "np.corrcoef(train['humidity'], train['count'])"
   ]
  },
  {
   "cell_type": "code",
   "execution_count": 40,
   "metadata": {},
   "outputs": [
    {
     "data": {
      "text/plain": [
       "array([[1.        , 0.10136947],\n",
       "       [0.10136947, 1.        ]])"
      ]
     },
     "execution_count": 40,
     "metadata": {},
     "output_type": "execute_result"
    }
   ],
   "source": [
    "np.corrcoef(train['windspeed'], train['count'])"
   ]
  },
  {
   "cell_type": "code",
   "execution_count": 41,
   "metadata": {},
   "outputs": [
    {
     "data": {
      "text/plain": [
       "array([[1.        , 0.97094811],\n",
       "       [0.97094811, 1.        ]])"
      ]
     },
     "execution_count": 41,
     "metadata": {},
     "output_type": "execute_result"
    }
   ],
   "source": [
    "np.corrcoef(train['registered'], train['count'])"
   ]
  },
  {
   "cell_type": "code",
   "execution_count": 42,
   "metadata": {},
   "outputs": [
    {
     "data": {
      "text/plain": [
       "array([[1.       , 0.2604033],\n",
       "       [0.2604033, 1.       ]])"
      ]
     },
     "execution_count": 42,
     "metadata": {},
     "output_type": "execute_result"
    }
   ],
   "source": [
    "np.corrcoef(train['year'], train['count'])"
   ]
  },
  {
   "cell_type": "code",
   "execution_count": 43,
   "metadata": {},
   "outputs": [
    {
     "data": {
      "text/plain": [
       "array([[1.        , 0.16686223],\n",
       "       [0.16686223, 1.        ]])"
      ]
     },
     "execution_count": 43,
     "metadata": {},
     "output_type": "execute_result"
    }
   ],
   "source": [
    "np.corrcoef(train['month'], train['count'])"
   ]
  },
  {
   "cell_type": "code",
   "execution_count": 44,
   "metadata": {},
   "outputs": [
    {
     "data": {
      "text/plain": [
       "array([[1.        , 0.01982578],\n",
       "       [0.01982578, 1.        ]])"
      ]
     },
     "execution_count": 44,
     "metadata": {},
     "output_type": "execute_result"
    }
   ],
   "source": [
    "np.corrcoef(train['day'], train['count'])"
   ]
  },
  {
   "cell_type": "code",
   "execution_count": 45,
   "metadata": {},
   "outputs": [
    {
     "data": {
      "text/plain": [
       "array([[1.        , 0.39445364],\n",
       "       [0.39445364, 1.        ]])"
      ]
     },
     "execution_count": 45,
     "metadata": {},
     "output_type": "execute_result"
    }
   ],
   "source": [
    "np.corrcoef(train['temp'], train['count'])"
   ]
  },
  {
   "cell_type": "code",
   "execution_count": 46,
   "metadata": {},
   "outputs": [
    {
     "data": {
      "text/plain": [
       "array([[1.        , 0.40060119],\n",
       "       [0.40060119, 1.        ]])"
      ]
     },
     "execution_count": 46,
     "metadata": {},
     "output_type": "execute_result"
    }
   ],
   "source": [
    "np.corrcoef(train['hour'], train['count'])"
   ]
  },
  {
   "cell_type": "code",
   "execution_count": 52,
   "metadata": {},
   "outputs": [
    {
     "data": {
      "text/plain": [
       "array([[nan, nan],\n",
       "       [nan,  1.]])"
      ]
     },
     "execution_count": 52,
     "metadata": {},
     "output_type": "execute_result"
    }
   ],
   "source": [
    "np.corrcoef(train['minute'], train['count'])"
   ]
  },
  {
   "cell_type": "code",
   "execution_count": 50,
   "metadata": {},
   "outputs": [
    {
     "data": {
      "text/plain": [
       "array([[nan, nan],\n",
       "       [nan,  1.]])"
      ]
     },
     "execution_count": 50,
     "metadata": {},
     "output_type": "execute_result"
    }
   ],
   "source": [
    "np.corrcoef(train['second'], train['count'])"
   ]
  },
  {
   "cell_type": "code",
   "execution_count": 79,
   "metadata": {},
   "outputs": [
    {
     "data": {
      "text/plain": [
       "array([[1.        , 0.69041357],\n",
       "       [0.69041357, 1.        ]])"
      ]
     },
     "execution_count": 79,
     "metadata": {},
     "output_type": "execute_result"
    }
   ],
   "source": [
    "np.corrcoef(train['casual'], train['count'])"
   ]
  },
  {
   "cell_type": "markdown",
   "metadata": {},
   "source": [
    "### register 과 casual의 상관관계가 매우높음을 알 수 있다.\n",
    "register, casual 을 빼고 진행해 보겠다."
   ]
  },
  {
   "cell_type": "code",
   "execution_count": 102,
   "metadata": {},
   "outputs": [],
   "source": [
    "X = train[['temp', 'atemp', 'humidity', 'year', 'hour']].values\n",
    "y = train['count'].values"
   ]
  },
  {
   "cell_type": "code",
   "execution_count": 103,
   "metadata": {},
   "outputs": [],
   "source": [
    "X_train, X_test, y_train, y_test = train_test_split(X, y, test_size=0.2, random_state=42)\n"
   ]
  },
  {
   "cell_type": "code",
   "execution_count": 104,
   "metadata": {},
   "outputs": [],
   "source": [
    "from sklearn.linear_model import LinearRegression\n",
    "\n",
    "model = LinearRegression()"
   ]
  },
  {
   "cell_type": "code",
   "execution_count": 105,
   "metadata": {},
   "outputs": [
    {
     "data": {
      "text/plain": [
       "LinearRegression()"
      ]
     },
     "execution_count": 105,
     "metadata": {},
     "output_type": "execute_result"
    }
   ],
   "source": [
    "model.fit(X_train, y_train)"
   ]
  },
  {
   "cell_type": "code",
   "execution_count": 106,
   "metadata": {},
   "outputs": [
    {
     "data": {
      "text/plain": [
       "array([261.47442672,  85.46875607, 143.95959523, ..., 268.46946543,\n",
       "        80.2138806 , 268.422587  ])"
      ]
     },
     "execution_count": 106,
     "metadata": {},
     "output_type": "execute_result"
    }
   ],
   "source": [
    "predictions = model.predict(X_test)\n",
    "predictions"
   ]
  },
  {
   "cell_type": "code",
   "execution_count": 107,
   "metadata": {},
   "outputs": [
    {
     "data": {
      "text/plain": [
       "143.16722515697808"
      ]
     },
     "execution_count": 107,
     "metadata": {},
     "output_type": "execute_result"
    }
   ],
   "source": [
    "from sklearn.metrics import mean_squared_error\n",
    "\n",
    "\n",
    "mse = mean_squared_error(y_test, predictions)\n",
    "rmse = np.sqrt(mse)\n",
    "rmse"
   ]
  },
  {
   "cell_type": "code",
   "execution_count": 108,
   "metadata": {},
   "outputs": [
    {
     "data": {
      "text/plain": [
       "<matplotlib.legend.Legend at 0x7fc51bb75e10>"
      ]
     },
     "execution_count": 108,
     "metadata": {},
     "output_type": "execute_result"
    },
    {
     "data": {
      "image/png": "[encoded data removed]",
      "text/plain": [
       "<Figure size 432x288 with 1 Axes>"
      ]
     },
     "metadata": {
      "needs_background": "light"
     },
     "output_type": "display_data"
    }
   ],
   "source": [
    "plt.scatter(X_test[:, 0], y_test, label=\"true\")\n",
    "plt.scatter(X_test[:, 0], predictions, label=\"pred\")\n",
    "plt.title('temp')\n",
    "plt.legend()"
   ]
  },
  {
   "cell_type": "code",
   "execution_count": 109,
   "metadata": {},
   "outputs": [
    {
     "data": {
      "text/plain": [
       "<matplotlib.legend.Legend at 0x7fc538079f10>"
      ]
     },
     "execution_count": 109,
     "metadata": {},
     "output_type": "execute_result"
    },
    {
     "data": {
      "image/png": "[encoded data removed]",
      "text/plain": [
       "<Figure size 432x288 with 1 Axes>"
      ]
     },
     "metadata": {
      "needs_background": "light"
     },
     "output_type": "display_data"
    }
   ],
   "source": [
    "plt.scatter(X_test[:, 2], y_test, label=\"true\")\n",
    "plt.scatter(X_test[:, 2], predictions, label=\"pred\")\n",
    "plt.title('temp')\n",
    "plt.legend()"
   ]
  },
  {
   "cell_type": "markdown",
   "metadata": {},
   "source": [
    " 요소 registered, casual의 합이 count 여서 그런지 rmse 값이 너무 작았다.    \n",
    " 위의 두 요소를 빼니 rmse 143.16으로 150보다 작게 조절할 수 있었다.   \n",
    " - minute, second 요소의 값들이 다 0이므로 아무 상관관계가 없는 요소였다."
   ]
  },
  {
   "cell_type": "code",
   "execution_count": null,
   "metadata": {},
   "outputs": [],
   "source": []
  }
 ],
 "metadata": {
  "kernelspec": {
   "display_name": "aiffel",
   "language": "python",
   "name": "aiffel"
  },
  "language_info": {
   "codemirror_mode": {
    "name": "ipython",
    "version": 3
   },
   "file_extension": ".py",
   "mimetype": "text/x-python",
   "name": "python",
   "nbconvert_exporter": "python",
   "pygments_lexer": "ipython3",
   "version": "3.7.6"
  }
 },
 "nbformat": 4,
 "nbformat_minor": 4
}
