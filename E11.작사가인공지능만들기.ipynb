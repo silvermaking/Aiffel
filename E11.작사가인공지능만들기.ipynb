{
 "cells": [
  {
   "cell_type": "markdown",
   "metadata": {},
   "source": [
    "# introduction\n",
    "- LSTM 모듈을 사용해 문장 생성 모델 만들기  \n",
    "- 데이터 :[song.Lyrics](https://www.kaggle.com/paultimothymooney/poetry/data)\n",
    "- 모델의 Embedding Size, Hidden Size를 조절하여 10 Epoch 안에   \n",
    "val_loss 값 2.2수준으로 줄일 수 있는 모델 설계   \n",
    "- 멋진 모델이 생성한 가사 한줄 제출"
   ]
  },
  {
   "cell_type": "markdown",
   "metadata": {},
   "source": [
    "# Import"
   ]
  },
  {
   "cell_type": "code",
   "execution_count": 1,
   "metadata": {},
   "outputs": [],
   "source": [
    "import re\n",
    "import numpy as np\n",
    "import tensorflow as tf\n",
    "import glob\n",
    "import os\n",
    "from sklearn.model_selection import train_test_split"
   ]
  },
  {
   "cell_type": "markdown",
   "metadata": {},
   "source": [
    "# Load Data"
   ]
  },
  {
   "cell_type": "code",
   "execution_count": 2,
   "metadata": {},
   "outputs": [
    {
     "name": "stdout",
     "output_type": "stream",
     "text": [
      "데이터 크기: 187088\n",
      "Examples:\n",
      " ['Ghost in the mirror', \"I knew your face once, but now it's unclear\", \"And I can't feel my body now\"]\n"
     ]
    }
   ],
   "source": [
    "\n",
    "txt_file_path = os.getenv('HOME')+'/aiffel//lyricist/data/lyrics/*'\n",
    "\n",
    "txt_list = glob.glob(txt_file_path)\n",
    "\n",
    "raw_corpus = []\n",
    "\n",
    "# 여러개의 txt 파일을 모두 읽어서 raw_corpus 에 담습니다.\n",
    "for txt_file in txt_list:\n",
    "    with open(txt_file, \"r\") as f:\n",
    "        raw = f.read().splitlines()\n",
    "        raw_corpus.extend(raw)\n",
    "\n",
    "print(\"데이터 크기:\", len(raw_corpus))\n",
    "print(\"Examples:\\n\", raw_corpus[:3])"
   ]
  },
  {
   "cell_type": "markdown",
   "metadata": {},
   "source": [
    "# 데이터 정제   \n",
    "앞서 배운 테크닉들을 활용해 문장 생성에 적합한 모양새로 데이터를 정제하세요!\n",
    "\n",
    "preprocess_sentence() 함수를 만든 것을 기억하시죠? 이를 활용해 데이터를 정제하도록 하겠습니다.\n",
    "\n",
    "추가로 지나치게 긴 문장은 다른 데이터들이 과도한 Padding을 갖게 하므로 제거합니다. 문장을 토큰화 했을 때 토큰의 개수가 15개를 넘어가면 잘라내기를 권합니다."
   ]
  },
  {
   "cell_type": "code",
   "execution_count": 3,
   "metadata": {},
   "outputs": [
    {
     "name": "stdout",
     "output_type": "stream",
     "text": [
      "Ghost in the mirror\n",
      "I knew your face once, but now it's unclear\n",
      "And I can't feel my body now\n",
      "I'm separate from here and now A drug and a dream\n",
      "We lost connection, oh come back to me\n",
      "So I can feel alive again\n",
      "Soul and body try to mend It's pulling me apart, this time\n",
      "Everything is never ending\n",
      "Slipped into a peril that\n",
      "I'll never understand\n"
     ]
    }
   ],
   "source": [
    "for idx, sentence in enumerate(raw_corpus):\n",
    "    if len(sentence) == 0: continue   # 길이가 0인 문장은 건너뜁니다.\n",
    "    if sentence[-1] == \":\": continue  # 문장의 끝이 ) 인 문장은 건너뜁니다.\n",
    "\n",
    "    if idx > 9: break   # 일단 문장 10개만 확인해 볼 겁니다.\n",
    "        \n",
    "    print(sentence)"
   ]
  },
  {
   "cell_type": "code",
   "execution_count": 4,
   "metadata": {},
   "outputs": [],
   "source": [
    "def preprocess_sentence(sentence):\n",
    "    sentence = sentence.lower().strip()       # 소문자로 바꾸고 양쪽 공백을 삭제\n",
    "  \n",
    "    # 아래 3단계를 거쳐 sentence는 스페이스 1개를 delimeter로 하는 소문자 단어 시퀀스로 바뀝니다.\n",
    "    sentence = re.sub(r\"([?.!,¿])\", r\" \\1 \", sentence)        # 패턴의 특수문자를 만나면 특수문자 양쪽에 공백을 추가\n",
    "    sentence = re.sub(r'[\" \"]+', \" \", sentence)                  # 공백 패턴을 만나면 스페이스 1개로 치환\n",
    "    sentence = re.sub(r\"[^a-zA-Z?.!,¿]+\", \" \", sentence)  # a-zA-Z?.!,¿ 패턴을 제외한 모든 문자(공백문자까지도)를 스페이스 1개로 치환\n",
    "\n",
    "    sentence = sentence.strip()\n",
    "\n",
    "    sentence = '<start> ' + sentence + ' <end>'      # 이전 스텝에서 본 것처럼 문장 앞뒤로 <start>와 <end>를 단어처럼 붙여 줍니다\n",
    "    \n",
    "    return sentence"
   ]
  },
  {
   "cell_type": "code",
   "execution_count": 5,
   "metadata": {},
   "outputs": [
    {
     "data": {
      "text/plain": [
       "['<start> ghost in the mirror <end>',\n",
       " '<start> i knew your face once , but now it s unclear <end>',\n",
       " '<start> and i can t feel my body now <end>',\n",
       " '<start> i m separate from here and now a drug and a dream <end>',\n",
       " '<start> we lost connection , oh come back to me <end>',\n",
       " '<start> so i can feel alive again <end>',\n",
       " '<start> soul and body try to mend it s pulling me apart , this time <end>',\n",
       " '<start> everything is never ending <end>',\n",
       " '<start> slipped into a peril that <end>',\n",
       " '<start> i ll never understand <end>']"
      ]
     },
     "execution_count": 5,
     "metadata": {},
     "output_type": "execute_result"
    }
   ],
   "source": [
    "corpus = []\n",
    "\n",
    "for sentence in raw_corpus:\n",
    "    if len(sentence) == 0: continue\n",
    "    if sentence[-1] == \":\": continue\n",
    "        \n",
    "    corpus.append(preprocess_sentence(sentence))\n",
    "        \n",
    "corpus[:10]"
   ]
  },
  {
   "cell_type": "code",
   "execution_count": 6,
   "metadata": {},
   "outputs": [],
   "source": [
    "def tokenize(corpus):\n",
    "    # 텐서플로우에서 제공하는 Tokenizer 패키지를 생성\n",
    "    tokenizer = tf.keras.preprocessing.text.Tokenizer(\n",
    "        num_words=12000,  # 전체 단어의 개수 \n",
    "        filters=' ',    # 별도로 전처리 로직을 추가할 수 있습니다. 이번에는 사용하지 않겠습니다.\n",
    "        oov_token=\"<unk>\"  # out-of-vocabulary, 사전에 없었던 단어는 어떤 토큰으로 대체할지\n",
    "    )\n",
    "    tokenizer.fit_on_texts(corpus)   # 우리가 구축한 corpus로부터 Tokenizer가 사전을 자동구축하게 됩니다.\n",
    "\n",
    "    # 이후 tokenizer를 활용하여 모델에 입력할 데이터셋을 구축하게 됩니다.\n",
    "    tensor = tokenizer.texts_to_sequences(corpus)   # tokenizer는 구축한 사전으로부터 corpus를 해석해 Tensor로 변환합니다.\n",
    "\n",
    "    # 입력 데이터의 시퀀스 길이를 일정하게 맞추기 위한 padding  메소드를 제공합니다.\n",
    "    # maxlen의 디폴트값은 None입니다. 이 경우 corpus의 가장 긴 문장을 기준으로 시퀀스 길이가 맞춰집니다.\n",
    "    tensor = tf.keras.preprocessing.sequence.pad_sequences(tensor, padding='post', maxlen=15)  \n",
    "\n",
    "    print(tensor,tokenizer)\n",
    "    return tensor, tokenizer"
   ]
  },
  {
   "cell_type": "code",
   "execution_count": 7,
   "metadata": {},
   "outputs": [
    {
     "name": "stdout",
     "output_type": "stream",
     "text": [
      "[[   2 1299   14 ...    0    0    0]\n",
      " [   2    5  361 ...    3    0    0]\n",
      " [   2    8    5 ...    0    0    0]\n",
      " ...\n",
      " [   2   19  155 ...    0    0    0]\n",
      " [   2    5   32 ...    3    0    0]\n",
      " [   2 1132   10 ...    0    0    0]] <keras_preprocessing.text.Tokenizer object at 0x7f4e339c42d0>\n"
     ]
    }
   ],
   "source": [
    "tensor, tokenizer = tokenize(corpus)"
   ]
  },
  {
   "cell_type": "code",
   "execution_count": 8,
   "metadata": {},
   "outputs": [
    {
     "name": "stdout",
     "output_type": "stream",
     "text": [
      "1 : <unk>\n",
      "2 : <start>\n",
      "3 : <end>\n",
      "4 : ,\n",
      "5 : i\n",
      "6 : the\n",
      "7 : you\n",
      "8 : and\n",
      "9 : a\n",
      "10 : to\n"
     ]
    }
   ],
   "source": [
    "for idx in tokenizer.index_word:\n",
    "    print(idx, \":\", tokenizer.index_word[idx])\n",
    "\n",
    "    if idx >= 10: break"
   ]
  },
  {
   "cell_type": "code",
   "execution_count": 9,
   "metadata": {},
   "outputs": [
    {
     "name": "stdout",
     "output_type": "stream",
     "text": [
      "[   2 1299   14    6  808    3    0    0    0    0    0    0    0    0]\n",
      "[1299   14    6  808    3    0    0    0    0    0    0    0    0    0]\n"
     ]
    }
   ],
   "source": [
    "src_input = tensor[:, :-1]  # tensor에서 마지막 토큰을 잘라내서 소스 문장을 생성합니다. 마지막 토큰은 <END>가 아니라 <pad>일 가능성이 높습니다.\n",
    "tgt_input = tensor[:, 1:]    # tensor에서 <START>를 잘라내서 타겟 문장을 생성합니다.\n",
    "\n",
    "print(src_input[0])\n",
    "print(tgt_input[0])"
   ]
  },
  {
   "cell_type": "markdown",
   "metadata": {},
   "source": [
    "# 평가 데이터셋 분리"
   ]
  },
  {
   "cell_type": "code",
   "execution_count": 10,
   "metadata": {},
   "outputs": [],
   "source": [
    "enc_train, enc_val, dec_train, dec_val = train_test_split(src_input, tgt_input, test_size=0.2, random_state=2020)\n"
   ]
  },
  {
   "cell_type": "code",
   "execution_count": 11,
   "metadata": {},
   "outputs": [
    {
     "data": {
      "text/plain": [
       "<BatchDataset shapes: ((256, 14), (256, 14)), types: (tf.int32, tf.int32)>"
      ]
     },
     "execution_count": 11,
     "metadata": {},
     "output_type": "execute_result"
    }
   ],
   "source": [
    "BUFFER_SIZE = len(enc_train)\n",
    "BATCH_SIZE = 256\n",
    "steps_per_epoch = len(enc_train) // BATCH_SIZE\n",
    "\n",
    "VOCAB_SIZE = tokenizer.num_words + 1    #tokenizer가 구축한 단어사전 내 12000개와, 여기 포함되지 않은 0:<pad>를 포함하여 15001개\n",
    "\n",
    "dataset = tf.data.Dataset.from_tensor_slices((enc_train, dec_train)).shuffle(BUFFER_SIZE)\n",
    "dataset = dataset.batch(BATCH_SIZE, drop_remainder=True)\n",
    "dataset"
   ]
  },
  {
   "cell_type": "code",
   "execution_count": 12,
   "metadata": {},
   "outputs": [
    {
     "data": {
      "text/plain": [
       "<BatchDataset shapes: ((256, 14), (256, 14)), types: (tf.int32, tf.int32)>"
      ]
     },
     "execution_count": 12,
     "metadata": {},
     "output_type": "execute_result"
    }
   ],
   "source": [
    "val_dataset = tf.data.Dataset.from_tensor_slices((enc_val, dec_val)).shuffle(BUFFER_SIZE)\n",
    "val_dataset = val_dataset.batch(BATCH_SIZE, drop_remainder=True)\n",
    "val_dataset"
   ]
  },
  {
   "cell_type": "code",
   "execution_count": 13,
   "metadata": {},
   "outputs": [
    {
     "name": "stdout",
     "output_type": "stream",
     "text": [
      "Source Train: (140599, 14)\n",
      "Target Train: (140599, 14)\n"
     ]
    }
   ],
   "source": [
    "print(\"Source Train:\", enc_train.shape)\n",
    "print(\"Target Train:\", dec_train.shape)"
   ]
  },
  {
   "cell_type": "markdown",
   "metadata": {},
   "source": [
    "# 인공지능 만들기\n"
   ]
  },
  {
   "cell_type": "code",
   "execution_count": 14,
   "metadata": {},
   "outputs": [],
   "source": [
    "class TextGenerator(tf.keras.Model):\n",
    "    def __init__(self, vocab_size, embedding_size, hidden_size):\n",
    "        super(TextGenerator, self).__init__()\n",
    "        \n",
    "        self.embedding = tf.keras.layers.Embedding(vocab_size, embedding_size)\n",
    "        self.rnn_1 = tf.keras.layers.LSTM(hidden_size, return_sequences=True)\n",
    "        self.rnn_2 = tf.keras.layers.LSTM(hidden_size, return_sequences=True)\n",
    "        self.linear = tf.keras.layers.Dense(vocab_size)\n",
    "        \n",
    "    def call(self, x):\n",
    "        out = self.embedding(x)\n",
    "        out = self.rnn_1(out)\n",
    "        out = self.rnn_2(out)\n",
    "        out = self.linear(out)\n",
    "        \n",
    "        return out\n",
    "    \n",
    "embedding_size = 1024\n",
    "hidden_size = 2048\n",
    "model = TextGenerator(tokenizer.num_words + 1, embedding_size , hidden_size)"
   ]
  },
  {
   "cell_type": "code",
   "execution_count": 15,
   "metadata": {},
   "outputs": [
    {
     "data": {
      "text/plain": [
       "<tf.Tensor: shape=(256, 14, 12001), dtype=float32, numpy=\n",
       "array([[[ 4.80942137e-04, -4.49008454e-04,  5.11463557e-04, ...,\n",
       "          1.19019496e-04,  2.08226396e-04,  1.29996362e-04],\n",
       "        [ 3.70180467e-04, -7.45256431e-04,  9.44558647e-04, ...,\n",
       "          5.18042012e-04,  5.62515779e-05, -2.71516968e-04],\n",
       "        [-7.02247689e-06, -9.07724432e-04,  1.20567135e-03, ...,\n",
       "          5.57571009e-04,  5.49643184e-04, -1.16917933e-03],\n",
       "        ...,\n",
       "        [ 1.11851492e-03, -3.98575969e-04, -5.08570985e-04, ...,\n",
       "         -8.09204357e-04, -2.84106063e-04, -1.66108529e-03],\n",
       "        [ 1.56620494e-03, -1.14756986e-03, -1.17257121e-03, ...,\n",
       "         -6.83734543e-04, -8.37258995e-04, -1.30824640e-03],\n",
       "        [ 1.88025786e-03, -1.98672875e-03, -1.86771341e-03, ...,\n",
       "         -5.41747257e-04, -1.30733557e-03, -9.10702278e-04]],\n",
       "\n",
       "       [[ 4.80942137e-04, -4.49008454e-04,  5.11463557e-04, ...,\n",
       "          1.19019496e-04,  2.08226396e-04,  1.29996362e-04],\n",
       "        [ 8.29215627e-04, -5.18966117e-04,  8.29292519e-04, ...,\n",
       "          1.89165032e-04,  2.42778377e-04,  4.91357234e-04],\n",
       "        [ 1.02676835e-03, -2.68174015e-04,  1.15026324e-03, ...,\n",
       "          2.35562140e-04,  1.51172077e-04,  1.70311585e-04],\n",
       "        ...,\n",
       "        [ 1.29271924e-04,  8.70003307e-04,  6.34484459e-04, ...,\n",
       "          5.11584745e-04,  4.62932105e-04, -2.25687079e-04],\n",
       "        [-4.26667160e-04,  1.21095730e-03,  8.29544268e-04, ...,\n",
       "          5.22738963e-04,  4.78240225e-04, -3.71108501e-04],\n",
       "        [-3.02549073e-04,  1.59076927e-03,  1.05726323e-03, ...,\n",
       "          8.20292858e-04,  6.14980701e-04, -7.99818721e-04]],\n",
       "\n",
       "       [[ 4.80942137e-04, -4.49008454e-04,  5.11463557e-04, ...,\n",
       "          1.19019496e-04,  2.08226396e-04,  1.29996362e-04],\n",
       "        [ 9.09823517e-04, -5.24078612e-04,  6.92462141e-04, ...,\n",
       "          2.32066261e-04,  8.29113182e-04,  2.83933798e-04],\n",
       "        [ 1.41465978e-03, -7.33105408e-04,  5.14456187e-04, ...,\n",
       "          2.69836804e-04,  9.19394603e-04,  5.84294903e-04],\n",
       "        ...,\n",
       "        [ 2.62378808e-03,  1.48852973e-03, -4.28636442e-04, ...,\n",
       "         -2.86135613e-03, -9.79604432e-04,  2.51086080e-04],\n",
       "        [ 2.98275426e-03,  1.09470717e-03, -8.98202939e-04, ...,\n",
       "         -2.54458375e-03, -1.32037012e-03,  3.62051273e-04],\n",
       "        [ 3.22817406e-03,  3.66710359e-04, -1.47083751e-03, ...,\n",
       "         -2.16259900e-03, -1.63202325e-03,  5.44921379e-04]],\n",
       "\n",
       "       ...,\n",
       "\n",
       "       [[ 4.80942137e-04, -4.49008454e-04,  5.11463557e-04, ...,\n",
       "          1.19019496e-04,  2.08226396e-04,  1.29996362e-04],\n",
       "        [ 1.08284678e-03, -4.59897681e-04,  9.73792397e-04, ...,\n",
       "         -5.94854413e-04, -3.17730301e-04,  1.16174655e-04],\n",
       "        [ 1.56834559e-03,  2.69847602e-04,  1.17523666e-03, ...,\n",
       "         -9.89559921e-04, -8.08845332e-04, -1.91527695e-04],\n",
       "        ...,\n",
       "        [ 7.33677298e-04,  1.40127353e-03, -4.91472660e-04, ...,\n",
       "         -3.39725113e-04, -2.98069511e-03, -9.26364097e-04],\n",
       "        [ 8.54022859e-04,  1.37737393e-03, -3.47443944e-04, ...,\n",
       "         -4.03921258e-05, -2.82024126e-03, -1.37316610e-03],\n",
       "        [ 1.14663772e-03,  7.44751771e-04, -5.51352452e-04, ...,\n",
       "          1.37101088e-04, -2.80527957e-03, -1.41858368e-03]],\n",
       "\n",
       "       [[ 4.80942137e-04, -4.49008454e-04,  5.11463557e-04, ...,\n",
       "          1.19019496e-04,  2.08226396e-04,  1.29996362e-04],\n",
       "        [ 1.03157642e-03, -6.34469558e-04,  7.04763341e-04, ...,\n",
       "          6.35906006e-04,  9.35058692e-04, -2.22694260e-04],\n",
       "        [ 1.33697991e-03, -7.75648572e-04,  5.70403761e-04, ...,\n",
       "          9.86926723e-04,  9.86915780e-04, -6.41755410e-04],\n",
       "        ...,\n",
       "        [ 3.34654562e-03, -3.52131366e-03, -1.09663024e-03, ...,\n",
       "          2.28350377e-03,  3.66927154e-04,  1.44401100e-03],\n",
       "        [ 3.47988005e-03, -4.30135010e-03, -1.60109019e-03, ...,\n",
       "          2.04142416e-03, -1.49685526e-04,  1.43398356e-03],\n",
       "        [ 3.52202868e-03, -5.00611356e-03, -2.10783444e-03, ...,\n",
       "          1.77779968e-03, -5.46380121e-04,  1.41175499e-03]],\n",
       "\n",
       "       [[ 4.80942137e-04, -4.49008454e-04,  5.11463557e-04, ...,\n",
       "          1.19019496e-04,  2.08226396e-04,  1.29996362e-04],\n",
       "        [ 7.13375455e-04, -3.38055106e-04,  6.21426967e-04, ...,\n",
       "          2.19708527e-05,  6.78966971e-05,  4.13003465e-04],\n",
       "        [ 2.63346563e-04, -4.37334005e-04,  4.57028102e-04, ...,\n",
       "          5.55053528e-04, -1.37133102e-04,  6.76689029e-04],\n",
       "        ...,\n",
       "        [ 2.07660743e-03,  1.23682816e-03,  3.34590644e-04, ...,\n",
       "          2.62791873e-04, -3.12909571e-04, -8.99319886e-04],\n",
       "        [ 2.56869243e-03,  6.87464490e-04, -3.05770780e-04, ...,\n",
       "          3.17599101e-04, -6.46039844e-04, -8.30094330e-04],\n",
       "        [ 2.89867772e-03, -4.10977882e-05, -1.02408510e-03, ...,\n",
       "          3.60170437e-04, -9.75783740e-04, -6.65312167e-04]]],\n",
       "      dtype=float32)>"
      ]
     },
     "execution_count": 15,
     "metadata": {},
     "output_type": "execute_result"
    }
   ],
   "source": [
    "for src_sample, tgt_sample in dataset.take(1): break\n",
    "model(src_sample)"
   ]
  },
  {
   "cell_type": "code",
   "execution_count": 16,
   "metadata": {},
   "outputs": [
    {
     "name": "stdout",
     "output_type": "stream",
     "text": [
      "Model: \"text_generator\"\n",
      "_________________________________________________________________\n",
      "Layer (type)                 Output Shape              Param #   \n",
      "=================================================================\n",
      "embedding (Embedding)        multiple                  12289024  \n",
      "_________________________________________________________________\n",
      "lstm (LSTM)                  multiple                  25174016  \n",
      "_________________________________________________________________\n",
      "lstm_1 (LSTM)                multiple                  33562624  \n",
      "_________________________________________________________________\n",
      "dense (Dense)                multiple                  24590049  \n",
      "=================================================================\n",
      "Total params: 95,615,713\n",
      "Trainable params: 95,615,713\n",
      "Non-trainable params: 0\n",
      "_________________________________________________________________\n"
     ]
    }
   ],
   "source": [
    "model.summary()"
   ]
  },
  {
   "cell_type": "code",
   "execution_count": 17,
   "metadata": {},
   "outputs": [
    {
     "name": "stdout",
     "output_type": "stream",
     "text": [
      "Epoch 1/7\n",
      "549/549 [==============================] - 237s 431ms/step - loss: 3.4255\n",
      "Epoch 2/7\n",
      "549/549 [==============================] - 235s 429ms/step - loss: 2.8356\n",
      "Epoch 3/7\n",
      "549/549 [==============================] - 236s 430ms/step - loss: 2.4943\n",
      "Epoch 4/7\n",
      "549/549 [==============================] - 246s 448ms/step - loss: 2.1704\n",
      "Epoch 5/7\n",
      "549/549 [==============================] - 243s 443ms/step - loss: 1.8657\n",
      "Epoch 6/7\n",
      "549/549 [==============================] - 239s 435ms/step - loss: 1.5896\n",
      "Epoch 7/7\n",
      "549/549 [==============================] - 241s 439ms/step - loss: 1.3550\n"
     ]
    },
    {
     "data": {
      "text/plain": [
       "<tensorflow.python.keras.callbacks.History at 0x7f4e34c388d0>"
      ]
     },
     "execution_count": 17,
     "metadata": {},
     "output_type": "execute_result"
    }
   ],
   "source": [
    "optimizer = tf.keras.optimizers.Adam()\n",
    "loss = tf.keras.losses.SparseCategoricalCrossentropy(\n",
    "    from_logits=True,\n",
    "    reduction='none'\n",
    ")\n",
    "\n",
    "model.compile(loss=loss, optimizer=optimizer)\n",
    "model.fit(dataset, epochs=7)"
   ]
  },
  {
   "cell_type": "code",
   "execution_count": 20,
   "metadata": {},
   "outputs": [],
   "source": [
    "def generate_text(model, tokenizer, init_sentence=\"<start>\", max_len=20):\n",
    "    # 테스트를 위해서 입력받은 init_sentence도 일단 텐서로 변환합니다.\n",
    "    test_input = tokenizer.texts_to_sequences([init_sentence])\n",
    "    test_tensor = tf.convert_to_tensor(test_input, dtype=tf.int64)\n",
    "    end_token = tokenizer.word_index[\"<end>\"]\n",
    "\n",
    "    # 텍스트를 실제로 생성할때는 루프를 돌면서 단어 하나씩 생성해야 합니다. \n",
    "    while True:\n",
    "        predict = model(test_tensor)  # 입력받은 문장의 텐서를 입력합니다. \n",
    "        predict_word = tf.argmax(tf.nn.softmax(predict, axis=-1), axis=-1)[:, -1]   # 우리 모델이 예측한 마지막 단어가 바로 새롭게 생성한 단어가 됩니다. \n",
    "\n",
    "        # 우리 모델이 새롭게 예측한 단어를 입력 문장의 뒤에 붙여 줍니다. \n",
    "        test_tensor = tf.concat([test_tensor, \n",
    "                                                                 tf.expand_dims(predict_word, axis=0)], axis=-1)\n",
    "\n",
    "        # 우리 모델이 <END>를 예측했거나, max_len에 도달하지 않았다면  while 루프를 또 돌면서 다음 단어를 예측해야 합니다.\n",
    "        if predict_word.numpy()[0] == end_token: break\n",
    "        if test_tensor.shape[1] >= max_len: break\n",
    "\n",
    "    generated = \"\"\n",
    "    # 생성된 tensor 안에 있는 word index를 tokenizer.index_word 사전을 통해 실제 단어로 하나씩 변환합니다. \n",
    "    for word_index in test_tensor[0].numpy():\n",
    "        generated += tokenizer.index_word[word_index] + \" \"\n",
    "\n",
    "    return generated   # 이것이 최종적으로 모델이 생성한 자연어 문장입니다."
   ]
  },
  {
   "cell_type": "code",
   "execution_count": 22,
   "metadata": {},
   "outputs": [
    {
     "data": {
      "text/plain": [
       "'<start> i love you so <end> '"
      ]
     },
     "execution_count": 22,
     "metadata": {},
     "output_type": "execute_result"
    }
   ],
   "source": [
    "generate_text(model, tokenizer, init_sentence=\"<start> i love\", max_len=20)"
   ]
  },
  {
   "cell_type": "markdown",
   "metadata": {},
   "source": [
    "# Conclusion\n",
    "- embedding_size = 1024, hidden_size = 2048 로 설정했더니 Loss :1.355가 나왔다.  \n"
   ]
  },
  {
   "cell_type": "code",
   "execution_count": null,
   "metadata": {},
   "outputs": [],
   "source": []
  }
 ],
 "metadata": {
  "kernelspec": {
   "display_name": "aiffel",
   "language": "python",
   "name": "aiffel"
  },
  "language_info": {
   "codemirror_mode": {
    "name": "ipython",
    "version": 3
   },
   "file_extension": ".py",
   "mimetype": "text/x-python",
   "name": "python",
   "nbconvert_exporter": "python",
   "pygments_lexer": "ipython3",
   "version": "3.7.6"
  }
 },
 "nbformat": 4,
 "nbformat_minor": 4
}
